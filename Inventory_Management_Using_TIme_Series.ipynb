{
 "cells": [
  {
   "cell_type": "markdown",
   "id": "711450c3",
   "metadata": {},
   "source": [
    "# Business Case: Inventory management. \n",
    "Keeping Inventory of spare in various service centre to the market \n",
    "demand is always a challenge as most service centres spends significant \n",
    "amount in spare parts inventory costs. In spite of this, \n",
    "availability of spare parts is been one of the problem areas.\n",
    "\n",
    "## Project Goal:\n",
    "Create Predictive model for inventory forecasting so that service centre achieve JIT standards."
   ]
  },
  {
   "attachments": {},
   "cell_type": "markdown",
   "id": "3fb13528",
   "metadata": {},
   "source": [
    "## Contents\n",
    "\n",
    "- [Import Stuff](#import-stuff)\n",
    "- [Load the Data](#load-the-data)\n",
    "- [Basic EDA](#basic-eda)\n",
    "- [Data Preprocessing](#data-preprocessing)\n",
    "- [Advanced EDA](#advanced-eda)\n",
    "- [Time Series Analysis](#time-series-analysis)\n",
    "- [Time Series Forecasting](#time-series-forecasting)\n",
    "- [Model Evaluation](#models-evaluation)\n",
    "- [Multivariate Analysis](#induct-exogenous-variable-in-sarimax-model)"
   ]
  },
  {
   "attachments": {},
   "cell_type": "markdown",
   "id": "6b169fbf",
   "metadata": {},
   "source": [
    "## Import Stuff"
   ]
  },
  {
   "cell_type": "code",
   "execution_count": 1,
   "id": "d18750c0",
   "metadata": {},
   "outputs": [],
   "source": [
    "# Importing libraries\n",
    "import pandas as pd\n",
    "import numpy as np\n",
    "import matplotlib.pyplot as plt\n",
    "import seaborn as sns\n",
    "\n",
    "import warnings\n",
    "\n",
    "warnings.filterwarnings(\"ignore\")"
   ]
  },
  {
   "cell_type": "markdown",
   "id": "54288385",
   "metadata": {},
   "source": []
  },
  {
   "attachments": {},
   "cell_type": "markdown",
   "id": "bcb26d5f",
   "metadata": {},
   "source": [
    "## Load the Data"
   ]
  },
  {
   "cell_type": "code",
   "execution_count": 2,
   "id": "e8afb276",
   "metadata": {},
   "outputs": [],
   "source": [
    "# loading data\n",
    "data = pd.read_csv(\"inventory.csv\")"
   ]
  },
  {
   "cell_type": "code",
   "execution_count": 3,
   "id": "0ee4b1c9",
   "metadata": {},
   "outputs": [
    {
     "data": {
      "text/plain": [
       "(28482, 7)"
      ]
     },
     "execution_count": 3,
     "metadata": {},
     "output_type": "execute_result"
    }
   ],
   "source": [
    "# size of data\n",
    "data.shape"
   ]
  },
  {
   "cell_type": "code",
   "execution_count": 4,
   "id": "029eb392",
   "metadata": {},
   "outputs": [
    {
     "data": {
      "text/html": [
       "<div>\n",
       "<style scoped>\n",
       "    .dataframe tbody tr th:only-of-type {\n",
       "        vertical-align: middle;\n",
       "    }\n",
       "\n",
       "    .dataframe tbody tr th {\n",
       "        vertical-align: top;\n",
       "    }\n",
       "\n",
       "    .dataframe thead th {\n",
       "        text-align: right;\n",
       "    }\n",
       "</style>\n",
       "<table border=\"1\" class=\"dataframe\">\n",
       "  <thead>\n",
       "    <tr style=\"text-align: right;\">\n",
       "      <th></th>\n",
       "      <th>invoice_date</th>\n",
       "      <th>job_card_date</th>\n",
       "      <th>business_partner_name</th>\n",
       "      <th>vehicle_no</th>\n",
       "      <th>vehicle_model</th>\n",
       "      <th>current_km_reading</th>\n",
       "      <th>invoice_line_text</th>\n",
       "    </tr>\n",
       "  </thead>\n",
       "  <tbody>\n",
       "    <tr>\n",
       "      <th>0</th>\n",
       "      <td>30-05-17</td>\n",
       "      <td>30-05-17</td>\n",
       "      <td>shivXXXXXXXXXX</td>\n",
       "      <td>KA03MFXXXX</td>\n",
       "      <td>BAJAJ AVENGER STREET 220</td>\n",
       "      <td>50000</td>\n",
       "      <td>ENGINE OIL</td>\n",
       "    </tr>\n",
       "    <tr>\n",
       "      <th>1</th>\n",
       "      <td>02-06-17</td>\n",
       "      <td>31-05-17</td>\n",
       "      <td>KIRAXXXXXXXXXX</td>\n",
       "      <td>KA53ESXXXX</td>\n",
       "      <td>BAJAJ PULSAR NS 200</td>\n",
       "      <td>758</td>\n",
       "      <td>ENGINE OIL</td>\n",
       "    </tr>\n",
       "    <tr>\n",
       "      <th>2</th>\n",
       "      <td>02-06-17</td>\n",
       "      <td>31-05-17</td>\n",
       "      <td>KIRAXXXXXXXXXX</td>\n",
       "      <td>KA53ESXXXX</td>\n",
       "      <td>BAJAJ PULSAR NS 200</td>\n",
       "      <td>758</td>\n",
       "      <td>POLISH</td>\n",
       "    </tr>\n",
       "    <tr>\n",
       "      <th>3</th>\n",
       "      <td>02-06-17</td>\n",
       "      <td>31-05-17</td>\n",
       "      <td>KIRAXXXXXXXXXX</td>\n",
       "      <td>KA53ESXXXX</td>\n",
       "      <td>BAJAJ PULSAR NS 200</td>\n",
       "      <td>758</td>\n",
       "      <td>CONSUMABLES</td>\n",
       "    </tr>\n",
       "    <tr>\n",
       "      <th>4</th>\n",
       "      <td>02-06-17</td>\n",
       "      <td>31-05-17</td>\n",
       "      <td>KIRAXXXXXXXXXX</td>\n",
       "      <td>KA53ESXXXX</td>\n",
       "      <td>BAJAJ PULSAR NS 200</td>\n",
       "      <td>758</td>\n",
       "      <td>COOLANT OIL</td>\n",
       "    </tr>\n",
       "    <tr>\n",
       "      <th>5</th>\n",
       "      <td>02-06-17</td>\n",
       "      <td>31-05-17</td>\n",
       "      <td>KIRAXXXXXXXXXX</td>\n",
       "      <td>KA53ESXXXX</td>\n",
       "      <td>BAJAJ PULSAR NS 200</td>\n",
       "      <td>758</td>\n",
       "      <td>CHAIN LUBRICATION</td>\n",
       "    </tr>\n",
       "    <tr>\n",
       "      <th>6</th>\n",
       "      <td>02-06-17</td>\n",
       "      <td>31-05-17</td>\n",
       "      <td>KIRAXXXXXXXXXX</td>\n",
       "      <td>KA53ESXXXX</td>\n",
       "      <td>BAJAJ PULSAR NS 200</td>\n",
       "      <td>758</td>\n",
       "      <td>4 WAY SWITCH</td>\n",
       "    </tr>\n",
       "    <tr>\n",
       "      <th>7</th>\n",
       "      <td>31-05-17</td>\n",
       "      <td>31-05-17</td>\n",
       "      <td>pattXXXXXXXXXX</td>\n",
       "      <td>KA53EMXXXX</td>\n",
       "      <td>BAJAJ PLATINA</td>\n",
       "      <td>3717</td>\n",
       "      <td>ENGINE OIL</td>\n",
       "    </tr>\n",
       "    <tr>\n",
       "      <th>8</th>\n",
       "      <td>31-05-17</td>\n",
       "      <td>31-05-17</td>\n",
       "      <td>pattXXXXXXXXXX</td>\n",
       "      <td>KA53EMXXXX</td>\n",
       "      <td>BAJAJ PLATINA</td>\n",
       "      <td>3717</td>\n",
       "      <td>3M OIL</td>\n",
       "    </tr>\n",
       "    <tr>\n",
       "      <th>9</th>\n",
       "      <td>31-05-17</td>\n",
       "      <td>31-05-17</td>\n",
       "      <td>pattXXXXXXXXXX</td>\n",
       "      <td>KA53EMXXXX</td>\n",
       "      <td>BAJAJ PLATINA</td>\n",
       "      <td>3717</td>\n",
       "      <td>CHAIN LUBRICATION</td>\n",
       "    </tr>\n",
       "  </tbody>\n",
       "</table>\n",
       "</div>"
      ],
      "text/plain": [
       "  invoice_date job_card_date business_partner_name  vehicle_no  \\\n",
       "0     30-05-17      30-05-17        shivXXXXXXXXXX  KA03MFXXXX   \n",
       "1     02-06-17      31-05-17        KIRAXXXXXXXXXX  KA53ESXXXX   \n",
       "2     02-06-17      31-05-17        KIRAXXXXXXXXXX  KA53ESXXXX   \n",
       "3     02-06-17      31-05-17        KIRAXXXXXXXXXX  KA53ESXXXX   \n",
       "4     02-06-17      31-05-17        KIRAXXXXXXXXXX  KA53ESXXXX   \n",
       "5     02-06-17      31-05-17        KIRAXXXXXXXXXX  KA53ESXXXX   \n",
       "6     02-06-17      31-05-17        KIRAXXXXXXXXXX  KA53ESXXXX   \n",
       "7     31-05-17      31-05-17        pattXXXXXXXXXX  KA53EMXXXX   \n",
       "8     31-05-17      31-05-17        pattXXXXXXXXXX  KA53EMXXXX   \n",
       "9     31-05-17      31-05-17        pattXXXXXXXXXX  KA53EMXXXX   \n",
       "\n",
       "              vehicle_model  current_km_reading  invoice_line_text  \n",
       "0  BAJAJ AVENGER STREET 220               50000         ENGINE OIL  \n",
       "1       BAJAJ PULSAR NS 200                 758         ENGINE OIL  \n",
       "2       BAJAJ PULSAR NS 200                 758             POLISH  \n",
       "3       BAJAJ PULSAR NS 200                 758        CONSUMABLES  \n",
       "4       BAJAJ PULSAR NS 200                 758        COOLANT OIL  \n",
       "5       BAJAJ PULSAR NS 200                 758  CHAIN LUBRICATION  \n",
       "6       BAJAJ PULSAR NS 200                 758       4 WAY SWITCH  \n",
       "7             BAJAJ PLATINA                3717         ENGINE OIL  \n",
       "8             BAJAJ PLATINA                3717             3M OIL  \n",
       "9             BAJAJ PLATINA                3717  CHAIN LUBRICATION  "
      ]
     },
     "execution_count": 4,
     "metadata": {},
     "output_type": "execute_result"
    }
   ],
   "source": [
    "# getting first 10 records\n",
    "data.head(10)"
   ]
  },
  {
   "attachments": {},
   "cell_type": "markdown",
   "id": "340141c4",
   "metadata": {},
   "source": [
    "## Basic EDA"
   ]
  },
  {
   "cell_type": "code",
   "execution_count": 5,
   "id": "e738eaa1",
   "metadata": {},
   "outputs": [
    {
     "data": {
      "text/plain": [
       "Index(['invoice_date', 'job_card_date', 'business_partner_name', 'vehicle_no',\n",
       "       'vehicle_model', 'current_km_reading', 'invoice_line_text'],\n",
       "      dtype='object')"
      ]
     },
     "execution_count": 5,
     "metadata": {},
     "output_type": "execute_result"
    }
   ],
   "source": [
    "# columns\n",
    "data.columns"
   ]
  },
  {
   "cell_type": "code",
   "execution_count": 6,
   "id": "9af074a1",
   "metadata": {},
   "outputs": [
    {
     "name": "stdout",
     "output_type": "stream",
     "text": [
      "<class 'pandas.core.frame.DataFrame'>\n",
      "RangeIndex: 28482 entries, 0 to 28481\n",
      "Data columns (total 7 columns):\n",
      " #   Column                 Non-Null Count  Dtype \n",
      "---  ------                 --------------  ----- \n",
      " 0   invoice_date           28482 non-null  object\n",
      " 1   job_card_date          28482 non-null  object\n",
      " 2   business_partner_name  28482 non-null  object\n",
      " 3   vehicle_no             28482 non-null  object\n",
      " 4   vehicle_model          28482 non-null  object\n",
      " 5   current_km_reading     28482 non-null  int64 \n",
      " 6   invoice_line_text      28448 non-null  object\n",
      "dtypes: int64(1), object(6)\n",
      "memory usage: 1.5+ MB\n"
     ]
    }
   ],
   "source": [
    "data.info()"
   ]
  },
  {
   "cell_type": "markdown",
   "id": "28615c70",
   "metadata": {},
   "source": [
    "Few null values are there in 'invoice_line_text'"
   ]
  },
  {
   "cell_type": "code",
   "execution_count": 7,
   "id": "d38c596e",
   "metadata": {},
   "outputs": [
    {
     "data": {
      "text/plain": [
       "invoice_date              0\n",
       "job_card_date             0\n",
       "business_partner_name     0\n",
       "vehicle_no                0\n",
       "vehicle_model             0\n",
       "current_km_reading        0\n",
       "invoice_line_text        34\n",
       "dtype: int64"
      ]
     },
     "execution_count": 7,
     "metadata": {},
     "output_type": "execute_result"
    }
   ],
   "source": [
    "# Handling nulls\n",
    "data.isnull().sum()"
   ]
  },
  {
   "cell_type": "code",
   "execution_count": 8,
   "id": "6c384d38",
   "metadata": {},
   "outputs": [
    {
     "data": {
      "text/plain": [
       "invoice_date             0.000000\n",
       "job_card_date            0.000000\n",
       "business_partner_name    0.000000\n",
       "vehicle_no               0.000000\n",
       "vehicle_model            0.000000\n",
       "current_km_reading       0.000000\n",
       "invoice_line_text        0.119374\n",
       "dtype: float64"
      ]
     },
     "execution_count": 8,
     "metadata": {},
     "output_type": "execute_result"
    }
   ],
   "source": [
    "100* data.isnull().sum()/data.shape[0]"
   ]
  },
  {
   "cell_type": "markdown",
   "id": "e608657f",
   "metadata": {},
   "source": [
    "0.12% records of invoice_line_text are nulls => dropping those rows"
   ]
  },
  {
   "cell_type": "code",
   "execution_count": 9,
   "id": "f4953e4e",
   "metadata": {},
   "outputs": [
    {
     "data": {
      "text/html": [
       "<div>\n",
       "<style scoped>\n",
       "    .dataframe tbody tr th:only-of-type {\n",
       "        vertical-align: middle;\n",
       "    }\n",
       "\n",
       "    .dataframe tbody tr th {\n",
       "        vertical-align: top;\n",
       "    }\n",
       "\n",
       "    .dataframe thead th {\n",
       "        text-align: right;\n",
       "    }\n",
       "</style>\n",
       "<table border=\"1\" class=\"dataframe\">\n",
       "  <thead>\n",
       "    <tr style=\"text-align: right;\">\n",
       "      <th></th>\n",
       "      <th>invoice_date</th>\n",
       "      <th>job_card_date</th>\n",
       "      <th>business_partner_name</th>\n",
       "      <th>vehicle_no</th>\n",
       "      <th>vehicle_model</th>\n",
       "      <th>current_km_reading</th>\n",
       "      <th>invoice_line_text</th>\n",
       "    </tr>\n",
       "  </thead>\n",
       "  <tbody>\n",
       "    <tr>\n",
       "      <th>0</th>\n",
       "      <td>30-05-17</td>\n",
       "      <td>30-05-17</td>\n",
       "      <td>shivXXXXXXXXXX</td>\n",
       "      <td>KA03MFXXXX</td>\n",
       "      <td>BAJAJ AVENGER STREET 220</td>\n",
       "      <td>50000</td>\n",
       "      <td>ENGINE OIL</td>\n",
       "    </tr>\n",
       "    <tr>\n",
       "      <th>1</th>\n",
       "      <td>02-06-17</td>\n",
       "      <td>31-05-17</td>\n",
       "      <td>KIRAXXXXXXXXXX</td>\n",
       "      <td>KA53ESXXXX</td>\n",
       "      <td>BAJAJ PULSAR NS 200</td>\n",
       "      <td>758</td>\n",
       "      <td>ENGINE OIL</td>\n",
       "    </tr>\n",
       "    <tr>\n",
       "      <th>2</th>\n",
       "      <td>02-06-17</td>\n",
       "      <td>31-05-17</td>\n",
       "      <td>KIRAXXXXXXXXXX</td>\n",
       "      <td>KA53ESXXXX</td>\n",
       "      <td>BAJAJ PULSAR NS 200</td>\n",
       "      <td>758</td>\n",
       "      <td>POLISH</td>\n",
       "    </tr>\n",
       "    <tr>\n",
       "      <th>3</th>\n",
       "      <td>02-06-17</td>\n",
       "      <td>31-05-17</td>\n",
       "      <td>KIRAXXXXXXXXXX</td>\n",
       "      <td>KA53ESXXXX</td>\n",
       "      <td>BAJAJ PULSAR NS 200</td>\n",
       "      <td>758</td>\n",
       "      <td>CONSUMABLES</td>\n",
       "    </tr>\n",
       "    <tr>\n",
       "      <th>4</th>\n",
       "      <td>02-06-17</td>\n",
       "      <td>31-05-17</td>\n",
       "      <td>KIRAXXXXXXXXXX</td>\n",
       "      <td>KA53ESXXXX</td>\n",
       "      <td>BAJAJ PULSAR NS 200</td>\n",
       "      <td>758</td>\n",
       "      <td>COOLANT OIL</td>\n",
       "    </tr>\n",
       "  </tbody>\n",
       "</table>\n",
       "</div>"
      ],
      "text/plain": [
       "  invoice_date job_card_date business_partner_name  vehicle_no  \\\n",
       "0     30-05-17      30-05-17        shivXXXXXXXXXX  KA03MFXXXX   \n",
       "1     02-06-17      31-05-17        KIRAXXXXXXXXXX  KA53ESXXXX   \n",
       "2     02-06-17      31-05-17        KIRAXXXXXXXXXX  KA53ESXXXX   \n",
       "3     02-06-17      31-05-17        KIRAXXXXXXXXXX  KA53ESXXXX   \n",
       "4     02-06-17      31-05-17        KIRAXXXXXXXXXX  KA53ESXXXX   \n",
       "\n",
       "              vehicle_model  current_km_reading invoice_line_text  \n",
       "0  BAJAJ AVENGER STREET 220               50000        ENGINE OIL  \n",
       "1       BAJAJ PULSAR NS 200                 758        ENGINE OIL  \n",
       "2       BAJAJ PULSAR NS 200                 758            POLISH  \n",
       "3       BAJAJ PULSAR NS 200                 758       CONSUMABLES  \n",
       "4       BAJAJ PULSAR NS 200                 758       COOLANT OIL  "
      ]
     },
     "execution_count": 9,
     "metadata": {},
     "output_type": "execute_result"
    }
   ],
   "source": [
    "data = data[pd.notnull(data.invoice_line_text)].reset_index(drop=True)\n",
    "data.head()"
   ]
  },
  {
   "cell_type": "code",
   "execution_count": 10,
   "id": "5dfb5414",
   "metadata": {},
   "outputs": [
    {
     "data": {
      "text/plain": [
       "(28448, 7)"
      ]
     },
     "execution_count": 10,
     "metadata": {},
     "output_type": "execute_result"
    }
   ],
   "source": [
    "data.shape"
   ]
  },
  {
   "cell_type": "code",
   "execution_count": 11,
   "id": "d6c14d81",
   "metadata": {},
   "outputs": [],
   "source": [
    "# Handling outliers"
   ]
  },
  {
   "cell_type": "code",
   "execution_count": 12,
   "id": "d1687424",
   "metadata": {},
   "outputs": [
    {
     "data": {
      "image/png": "[encoded data removed]",
      "text/plain": [
       "<Figure size 720x504 with 1 Axes>"
      ]
     },
     "metadata": {
      "needs_background": "light"
     },
     "output_type": "display_data"
    }
   ],
   "source": [
    "fig = plt.figure(figsize =(10, 7))\n",
    "\n",
    "# Creating plot\n",
    "plt.boxplot(data.current_km_reading)\n",
    "plt.title(\"current_km_reading\")\n",
    "# show plot\n",
    "plt.show()"
   ]
  },
  {
   "cell_type": "markdown",
   "id": "c0c01419",
   "metadata": {},
   "source": [
    "**Note**: Normally bikes can't exceed 100,000 km."
   ]
  },
  {
   "cell_type": "code",
   "execution_count": 13,
   "id": "6a99b046",
   "metadata": {},
   "outputs": [
    {
     "data": {
      "text/plain": [
       "35"
      ]
     },
     "execution_count": 13,
     "metadata": {},
     "output_type": "execute_result"
    }
   ],
   "source": [
    "data[data.current_km_reading > 100000].shape[0]"
   ]
  },
  {
   "cell_type": "code",
   "execution_count": 14,
   "id": "3e4b87ce",
   "metadata": {},
   "outputs": [
    {
     "data": {
      "text/plain": [
       "(28413, 7)"
      ]
     },
     "execution_count": 14,
     "metadata": {},
     "output_type": "execute_result"
    }
   ],
   "source": [
    "# removing outliers\n",
    "data = data[data.current_km_reading <= 100000].reset_index(drop=True)\n",
    "data.shape"
   ]
  },
  {
   "cell_type": "code",
   "execution_count": 15,
   "id": "5388a6be",
   "metadata": {},
   "outputs": [
    {
     "data": {
      "text/html": [
       "<div>\n",
       "<style scoped>\n",
       "    .dataframe tbody tr th:only-of-type {\n",
       "        vertical-align: middle;\n",
       "    }\n",
       "\n",
       "    .dataframe tbody tr th {\n",
       "        vertical-align: top;\n",
       "    }\n",
       "\n",
       "    .dataframe thead th {\n",
       "        text-align: right;\n",
       "    }\n",
       "</style>\n",
       "<table border=\"1\" class=\"dataframe\">\n",
       "  <thead>\n",
       "    <tr style=\"text-align: right;\">\n",
       "      <th></th>\n",
       "      <th>invoice_date</th>\n",
       "      <th>job_card_date</th>\n",
       "      <th>business_partner_name</th>\n",
       "      <th>vehicle_no</th>\n",
       "      <th>vehicle_model</th>\n",
       "      <th>current_km_reading</th>\n",
       "      <th>invoice_line_text</th>\n",
       "    </tr>\n",
       "  </thead>\n",
       "  <tbody>\n",
       "    <tr>\n",
       "      <th>0</th>\n",
       "      <td>30-05-17</td>\n",
       "      <td>30-05-17</td>\n",
       "      <td>shivXXXXXXXXXX</td>\n",
       "      <td>KA03MFXXXX</td>\n",
       "      <td>BAJAJ AVENGER STREET 220</td>\n",
       "      <td>50000</td>\n",
       "      <td>ENGINE OIL</td>\n",
       "    </tr>\n",
       "    <tr>\n",
       "      <th>1</th>\n",
       "      <td>02-06-17</td>\n",
       "      <td>31-05-17</td>\n",
       "      <td>KIRAXXXXXXXXXX</td>\n",
       "      <td>KA53ESXXXX</td>\n",
       "      <td>BAJAJ PULSAR NS 200</td>\n",
       "      <td>758</td>\n",
       "      <td>ENGINE OIL</td>\n",
       "    </tr>\n",
       "    <tr>\n",
       "      <th>2</th>\n",
       "      <td>02-06-17</td>\n",
       "      <td>31-05-17</td>\n",
       "      <td>KIRAXXXXXXXXXX</td>\n",
       "      <td>KA53ESXXXX</td>\n",
       "      <td>BAJAJ PULSAR NS 200</td>\n",
       "      <td>758</td>\n",
       "      <td>POLISH</td>\n",
       "    </tr>\n",
       "    <tr>\n",
       "      <th>3</th>\n",
       "      <td>02-06-17</td>\n",
       "      <td>31-05-17</td>\n",
       "      <td>KIRAXXXXXXXXXX</td>\n",
       "      <td>KA53ESXXXX</td>\n",
       "      <td>BAJAJ PULSAR NS 200</td>\n",
       "      <td>758</td>\n",
       "      <td>CONSUMABLES</td>\n",
       "    </tr>\n",
       "    <tr>\n",
       "      <th>4</th>\n",
       "      <td>02-06-17</td>\n",
       "      <td>31-05-17</td>\n",
       "      <td>KIRAXXXXXXXXXX</td>\n",
       "      <td>KA53ESXXXX</td>\n",
       "      <td>BAJAJ PULSAR NS 200</td>\n",
       "      <td>758</td>\n",
       "      <td>COOLANT OIL</td>\n",
       "    </tr>\n",
       "  </tbody>\n",
       "</table>\n",
       "</div>"
      ],
      "text/plain": [
       "  invoice_date job_card_date business_partner_name  vehicle_no  \\\n",
       "0     30-05-17      30-05-17        shivXXXXXXXXXX  KA03MFXXXX   \n",
       "1     02-06-17      31-05-17        KIRAXXXXXXXXXX  KA53ESXXXX   \n",
       "2     02-06-17      31-05-17        KIRAXXXXXXXXXX  KA53ESXXXX   \n",
       "3     02-06-17      31-05-17        KIRAXXXXXXXXXX  KA53ESXXXX   \n",
       "4     02-06-17      31-05-17        KIRAXXXXXXXXXX  KA53ESXXXX   \n",
       "\n",
       "              vehicle_model  current_km_reading invoice_line_text  \n",
       "0  BAJAJ AVENGER STREET 220               50000        ENGINE OIL  \n",
       "1       BAJAJ PULSAR NS 200                 758        ENGINE OIL  \n",
       "2       BAJAJ PULSAR NS 200                 758            POLISH  \n",
       "3       BAJAJ PULSAR NS 200                 758       CONSUMABLES  \n",
       "4       BAJAJ PULSAR NS 200                 758       COOLANT OIL  "
      ]
     },
     "execution_count": 15,
     "metadata": {},
     "output_type": "execute_result"
    }
   ],
   "source": [
    "data.head()"
   ]
  },
  {
   "cell_type": "code",
   "execution_count": 16,
   "id": "6370f8bd",
   "metadata": {},
   "outputs": [
    {
     "data": {
      "text/plain": [
       "Index(['invoice_date', 'job_card_date', 'business_partner_name', 'vehicle_no',\n",
       "       'vehicle_model', 'current_km_reading', 'invoice_line_text'],\n",
       "      dtype='object')"
      ]
     },
     "execution_count": 16,
     "metadata": {},
     "output_type": "execute_result"
    }
   ],
   "source": [
    "data.columns"
   ]
  },
  {
   "cell_type": "code",
   "execution_count": 17,
   "id": "519e73ee",
   "metadata": {},
   "outputs": [
    {
     "data": {
      "text/plain": [
       "(28413, 3)"
      ]
     },
     "execution_count": 17,
     "metadata": {},
     "output_type": "execute_result"
    }
   ],
   "source": [
    "# dropping redundant columns ['invoice_date','job_card_date',  'business_partner_name', 'vehicle_no']\n",
    "data = data[['job_card_date', 'vehicle_model', 'invoice_line_text']]\n",
    "data.shape"
   ]
  },
  {
   "cell_type": "code",
   "execution_count": 18,
   "id": "744b00e3",
   "metadata": {},
   "outputs": [
    {
     "data": {
      "text/html": [
       "<div>\n",
       "<style scoped>\n",
       "    .dataframe tbody tr th:only-of-type {\n",
       "        vertical-align: middle;\n",
       "    }\n",
       "\n",
       "    .dataframe tbody tr th {\n",
       "        vertical-align: top;\n",
       "    }\n",
       "\n",
       "    .dataframe thead th {\n",
       "        text-align: right;\n",
       "    }\n",
       "</style>\n",
       "<table border=\"1\" class=\"dataframe\">\n",
       "  <thead>\n",
       "    <tr style=\"text-align: right;\">\n",
       "      <th></th>\n",
       "      <th>vehicle_model</th>\n",
       "      <th>count</th>\n",
       "    </tr>\n",
       "  </thead>\n",
       "  <tbody>\n",
       "    <tr>\n",
       "      <th>12</th>\n",
       "      <td>BAJAJ PULSAR 150</td>\n",
       "      <td>8599</td>\n",
       "    </tr>\n",
       "    <tr>\n",
       "      <th>2</th>\n",
       "      <td>BAJAJ AVENGER STREET 220</td>\n",
       "      <td>4212</td>\n",
       "    </tr>\n",
       "    <tr>\n",
       "      <th>14</th>\n",
       "      <td>BAJAJ PULSAR 220</td>\n",
       "      <td>2654</td>\n",
       "    </tr>\n",
       "    <tr>\n",
       "      <th>13</th>\n",
       "      <td>BAJAJ PULSAR 180</td>\n",
       "      <td>2251</td>\n",
       "    </tr>\n",
       "    <tr>\n",
       "      <th>18</th>\n",
       "      <td>BAJAJ PULSAR NS 200</td>\n",
       "      <td>2203</td>\n",
       "    </tr>\n",
       "    <tr>\n",
       "      <th>5</th>\n",
       "      <td>BAJAJ CT 100</td>\n",
       "      <td>1432</td>\n",
       "    </tr>\n",
       "    <tr>\n",
       "      <th>7</th>\n",
       "      <td>BAJAJ DISCOVER 125</td>\n",
       "      <td>1345</td>\n",
       "    </tr>\n",
       "    <tr>\n",
       "      <th>0</th>\n",
       "      <td>BAJAJ AVENGER STREET</td>\n",
       "      <td>1111</td>\n",
       "    </tr>\n",
       "    <tr>\n",
       "      <th>11</th>\n",
       "      <td>BAJAJ PLATINA</td>\n",
       "      <td>843</td>\n",
       "    </tr>\n",
       "    <tr>\n",
       "      <th>23</th>\n",
       "      <td>BAJAJ V150</td>\n",
       "      <td>685</td>\n",
       "    </tr>\n",
       "    <tr>\n",
       "      <th>6</th>\n",
       "      <td>BAJAJ DISCOVER</td>\n",
       "      <td>671</td>\n",
       "    </tr>\n",
       "    <tr>\n",
       "      <th>16</th>\n",
       "      <td>BAJAJ PULSAR LS135</td>\n",
       "      <td>515</td>\n",
       "    </tr>\n",
       "    <tr>\n",
       "      <th>15</th>\n",
       "      <td>BAJAJ PULSAR AS 200</td>\n",
       "      <td>421</td>\n",
       "    </tr>\n",
       "    <tr>\n",
       "      <th>17</th>\n",
       "      <td>BAJAJ PULSAR NS 160</td>\n",
       "      <td>364</td>\n",
       "    </tr>\n",
       "    <tr>\n",
       "      <th>19</th>\n",
       "      <td>BAJAJ PULSAR RS 200</td>\n",
       "      <td>322</td>\n",
       "    </tr>\n",
       "    <tr>\n",
       "      <th>9</th>\n",
       "      <td>BAJAJ DISCOVER 150</td>\n",
       "      <td>282</td>\n",
       "    </tr>\n",
       "    <tr>\n",
       "      <th>1</th>\n",
       "      <td>BAJAJ AVENGER STREET 180</td>\n",
       "      <td>122</td>\n",
       "    </tr>\n",
       "    <tr>\n",
       "      <th>8</th>\n",
       "      <td>BAJAJ DISCOVER 135</td>\n",
       "      <td>106</td>\n",
       "    </tr>\n",
       "    <tr>\n",
       "      <th>21</th>\n",
       "      <td>BAJAJ V125</td>\n",
       "      <td>95</td>\n",
       "    </tr>\n",
       "    <tr>\n",
       "      <th>20</th>\n",
       "      <td>BAJAJ V</td>\n",
       "      <td>50</td>\n",
       "    </tr>\n",
       "    <tr>\n",
       "      <th>4</th>\n",
       "      <td>BAJAJ CALIBER</td>\n",
       "      <td>40</td>\n",
       "    </tr>\n",
       "    <tr>\n",
       "      <th>25</th>\n",
       "      <td>BAJAJ XCD 125</td>\n",
       "      <td>27</td>\n",
       "    </tr>\n",
       "    <tr>\n",
       "      <th>22</th>\n",
       "      <td>BAJAJ V15</td>\n",
       "      <td>23</td>\n",
       "    </tr>\n",
       "    <tr>\n",
       "      <th>26</th>\n",
       "      <td>BAJAJ XCD 135</td>\n",
       "      <td>13</td>\n",
       "    </tr>\n",
       "    <tr>\n",
       "      <th>27</th>\n",
       "      <td>WAVE</td>\n",
       "      <td>10</td>\n",
       "    </tr>\n",
       "    <tr>\n",
       "      <th>10</th>\n",
       "      <td>BAJAJ DOMINAR 400 ABS</td>\n",
       "      <td>7</td>\n",
       "    </tr>\n",
       "    <tr>\n",
       "      <th>24</th>\n",
       "      <td>BAJAJ WIND 125</td>\n",
       "      <td>6</td>\n",
       "    </tr>\n",
       "    <tr>\n",
       "      <th>3</th>\n",
       "      <td>BAJAJ BOXER CT</td>\n",
       "      <td>4</td>\n",
       "    </tr>\n",
       "  </tbody>\n",
       "</table>\n",
       "</div>"
      ],
      "text/plain": [
       "               vehicle_model  count\n",
       "12          BAJAJ PULSAR 150   8599\n",
       "2   BAJAJ AVENGER STREET 220   4212\n",
       "14          BAJAJ PULSAR 220   2654\n",
       "13          BAJAJ PULSAR 180   2251\n",
       "18       BAJAJ PULSAR NS 200   2203\n",
       "5               BAJAJ CT 100   1432\n",
       "7         BAJAJ DISCOVER 125   1345\n",
       "0       BAJAJ AVENGER STREET   1111\n",
       "11             BAJAJ PLATINA    843\n",
       "23                BAJAJ V150    685\n",
       "6             BAJAJ DISCOVER    671\n",
       "16        BAJAJ PULSAR LS135    515\n",
       "15       BAJAJ PULSAR AS 200    421\n",
       "17       BAJAJ PULSAR NS 160    364\n",
       "19       BAJAJ PULSAR RS 200    322\n",
       "9         BAJAJ DISCOVER 150    282\n",
       "1   BAJAJ AVENGER STREET 180    122\n",
       "8         BAJAJ DISCOVER 135    106\n",
       "21                BAJAJ V125     95\n",
       "20                   BAJAJ V     50\n",
       "4              BAJAJ CALIBER     40\n",
       "25             BAJAJ XCD 125     27\n",
       "22                 BAJAJ V15     23\n",
       "26             BAJAJ XCD 135     13\n",
       "27                      WAVE     10\n",
       "10     BAJAJ DOMINAR 400 ABS      7\n",
       "24            BAJAJ WIND 125      6\n",
       "3             BAJAJ BOXER CT      4"
      ]
     },
     "execution_count": 18,
     "metadata": {},
     "output_type": "execute_result"
    }
   ],
   "source": [
    "grouped_data = data.groupby(['vehicle_model'])['invoice_line_text'].count().reset_index()\n",
    "grouped_data.rename(columns={'invoice_line_text': 'count'}, inplace=True)\n",
    "grouped_data = grouped_data.sort_values(by='count', ascending=False)\n",
    "grouped_data"
   ]
  },
  {
   "cell_type": "code",
   "execution_count": 19,
   "id": "5b9b8c5f",
   "metadata": {},
   "outputs": [
    {
     "data": {
      "text/html": [
       "<div>\n",
       "<style scoped>\n",
       "    .dataframe tbody tr th:only-of-type {\n",
       "        vertical-align: middle;\n",
       "    }\n",
       "\n",
       "    .dataframe tbody tr th {\n",
       "        vertical-align: top;\n",
       "    }\n",
       "\n",
       "    .dataframe thead th {\n",
       "        text-align: right;\n",
       "    }\n",
       "</style>\n",
       "<table border=\"1\" class=\"dataframe\">\n",
       "  <thead>\n",
       "    <tr style=\"text-align: right;\">\n",
       "      <th></th>\n",
       "      <th>invoice_line_text</th>\n",
       "      <th>count</th>\n",
       "    </tr>\n",
       "  </thead>\n",
       "  <tbody>\n",
       "    <tr>\n",
       "      <th>148</th>\n",
       "      <td>ENGINE OIL</td>\n",
       "      <td>3799</td>\n",
       "    </tr>\n",
       "    <tr>\n",
       "      <th>76</th>\n",
       "      <td>CHAIN LUBRICATION</td>\n",
       "      <td>3437</td>\n",
       "    </tr>\n",
       "    <tr>\n",
       "      <th>209</th>\n",
       "      <td>GENERAL SERVICE</td>\n",
       "      <td>2136</td>\n",
       "    </tr>\n",
       "    <tr>\n",
       "      <th>10</th>\n",
       "      <td>AIR FILTER</td>\n",
       "      <td>1713</td>\n",
       "    </tr>\n",
       "    <tr>\n",
       "      <th>2</th>\n",
       "      <td>3M OIL</td>\n",
       "      <td>1628</td>\n",
       "    </tr>\n",
       "    <tr>\n",
       "      <th>...</th>\n",
       "      <td>...</td>\n",
       "      <td>...</td>\n",
       "    </tr>\n",
       "    <tr>\n",
       "      <th>369</th>\n",
       "      <td>RIM</td>\n",
       "      <td>1</td>\n",
       "    </tr>\n",
       "    <tr>\n",
       "      <th>370</th>\n",
       "      <td>RIM TUBLESS NECK</td>\n",
       "      <td>1</td>\n",
       "    </tr>\n",
       "    <tr>\n",
       "      <th>205</th>\n",
       "      <td>GEAR LEVER WELDING</td>\n",
       "      <td>1</td>\n",
       "    </tr>\n",
       "    <tr>\n",
       "      <th>203</th>\n",
       "      <td>GEAR LEVER OIL SEAL</td>\n",
       "      <td>1</td>\n",
       "    </tr>\n",
       "    <tr>\n",
       "      <th>501</th>\n",
       "      <td>tyre</td>\n",
       "      <td>1</td>\n",
       "    </tr>\n",
       "  </tbody>\n",
       "</table>\n",
       "<p>502 rows × 2 columns</p>\n",
       "</div>"
      ],
      "text/plain": [
       "       invoice_line_text  count\n",
       "148           ENGINE OIL   3799\n",
       "76     CHAIN LUBRICATION   3437\n",
       "209      GENERAL SERVICE   2136\n",
       "10            AIR FILTER   1713\n",
       "2                 3M OIL   1628\n",
       "..                   ...    ...\n",
       "369                  RIM      1\n",
       "370     RIM TUBLESS NECK      1\n",
       "205   GEAR LEVER WELDING      1\n",
       "203  GEAR LEVER OIL SEAL      1\n",
       "501                 tyre      1\n",
       "\n",
       "[502 rows x 2 columns]"
      ]
     },
     "execution_count": 19,
     "metadata": {},
     "output_type": "execute_result"
    }
   ],
   "source": [
    "grouped_data = data.groupby(['invoice_line_text'])['vehicle_model'].count().reset_index()\n",
    "grouped_data.rename(columns={'vehicle_model': 'count'}, inplace=True)\n",
    "grouped_data = grouped_data.sort_values(by='count', ascending=False)\n",
    "grouped_data"
   ]
  },
  {
   "cell_type": "code",
   "execution_count": 20,
   "id": "d584bf0c",
   "metadata": {},
   "outputs": [
    {
     "data": {
      "text/plain": [
       "502"
      ]
     },
     "execution_count": 20,
     "metadata": {},
     "output_type": "execute_result"
    }
   ],
   "source": [
    "data['invoice_line_text'].nunique()"
   ]
  },
  {
   "cell_type": "code",
   "execution_count": 21,
   "id": "8b8b9401",
   "metadata": {
    "scrolled": true
   },
   "outputs": [
    {
     "name": "stdout",
     "output_type": "stream",
     "text": [
      "'ENGINE OIL',\n",
      "'POLISH',\n",
      "'CONSUMABLES',\n",
      "'COOLANT OIL',\n",
      "'CHAIN LUBRICATION',\n",
      "'4 WAY SWITCH',\n",
      "'3M OIL',\n",
      "'GENERAL SERVICE',\n",
      "'OIL FILTER',\n",
      "'INDICATOR',\n",
      "'HEAD REST',\n",
      "'VALVE GUIDE',\n",
      "'TIMMING CHAIN',\n",
      "'FOOT REST',\n",
      "'LOW BEAM BULB',\n",
      "'VALVE GRAINDING',\n",
      "'DISC PAD',\n",
      "'LOADING GEAR',\n",
      "'PACKING KIT',\n",
      "'TIMMING CHAIN PAD',\n",
      "'TENSIONER',\n",
      "'CLUTCH BELL REST',\n",
      "'CLUTCH ASSEMBLY',\n",
      "'VALVE KIT',\n",
      "'SPARK PLUG',\n",
      "'ONE WAY CLUTCH',\n",
      "'BORE KIT',\n",
      "'AIR FILTER',\n",
      "'HEAD RUBBER',\n",
      "'CLUTCH CABLE',\n",
      "'CRANK SHAFT',\n",
      "'BRAKE ADJUSTMENT',\n",
      "'BRAKE SHOE',\n",
      "'AIR FILTER CHECKUP',\n",
      "'DRUM BOLT WASHER',\n",
      "'TANK CLEANING',\n",
      "'FORK BEND',\n",
      "'GEAR SHAFT',\n",
      "'CLUTCH COVER GASKET',\n",
      "'INDICATOR BULB',\n",
      "'GEAR LEVER',\n",
      "'HANDLEBAR',\n",
      "'CRASH GUARD',\n",
      "'FORK OIL SEAL',\n",
      "'FORK OIL',\n",
      "'SIDE SHIELD',\n",
      "'VISIOR',\n",
      "'FORK CONE SET',\n",
      "'HEAD LIGHT DOOM',\n",
      "'TANK ASSEMBLY',\n",
      "'Clutch cable',\n",
      "'DISC LEVER',\n",
      "'CARBURETOR CLEANING',\n",
      "'SEAT COVER',\n",
      "'BUZZER',\n",
      "'TAIL LAMP BULB',\n",
      "'DISC OIL',\n",
      "'DISC OVERHUAL',\n",
      "'MASTER ASSEMBLY',\n",
      "'CHAIN COVER RUBBER',\n",
      "'ENGINE GUARD',\n",
      "'CLUTCH CAM ',\n",
      "'DOOM',\n",
      "'WHEEL RUBBER',\n",
      "'TIMMING CHAIN OVERHUAL',\n",
      "'SERVICE',\n",
      "'FORK OVERHUAL',\n",
      "'bore kit',\n",
      "'ENGINE BEARING',\n",
      "'CRANK RESET',\n",
      "'CARBURETOR DIAPHRAGM RUBBER',\n",
      "'ENGINE LABOUR',\n",
      "'CLUTCH LEVER',\n",
      "'DRUM BOLT',\n",
      "'LOCK SET',\n",
      "'RIGHT SHIELD CAP',\n",
      "'SWITCH',\n",
      "'SHOCK ABSORBER',\n",
      "'STEP HOLDER',\n",
      "'ACCELATOR CABLE',\n",
      "'JALL SCREW',\n",
      "'TANK COVER',\n",
      "'CLUTCH OVERHUAL',\n",
      "'HANDLE LOCK',\n",
      "'GRIPPER',\n",
      "'PARKING BULB',\n",
      "'WIND SHIELD',\n",
      "'SPEEDOMETER CAP',\n",
      "'HEAD LIGHT STAY',\n",
      "'LABOUR',\n",
      "'CONE SET',\n",
      "'DOOM SCREW KIT',\n",
      "'DISK PAD',\n",
      "'HEAD LIGHT BULB',\n",
      "'CALIPER ASSEMBLY',\n",
      "'LOCK ARM',\n",
      "'CHAIN OVERHAUL',\n",
      "'CHAIN SPROCKET',\n",
      "'YOKE RUBBER',\n",
      "'TYRE GUARD',\n",
      "'CHAIN SET',\n",
      "'PETROL TUBE',\n",
      "'REAR CALIPER ASSEMBLY',\n",
      "'clutch cable',\n",
      "'MIRROR ADJUSTMENT',\n",
      "'FORK ASSEMBLY',\n",
      "'HORN',\n",
      "'FORK LABOUR',\n",
      "'CLUTCH SWITCH',\n",
      "'SILENCER',\n",
      "'WHEEL BEARING',\n",
      "'SWITCH ',\n",
      "'CHOKE CABLE',\n",
      "'KICKER STOPPER',\n",
      "'FORK OIL AND OIL SEAL',\n",
      "'LADIES FOOT REST',\n",
      "'FOOT REST RUBBER',\n",
      "'SILENCER JALL',\n",
      "'BRAKE CABLE',\n",
      "'DISC PUMP KIT',\n",
      "'RACTIFIER',\n",
      "'SELF MOTOR',\n",
      "'WIRING CHECKUP',\n",
      "'YOKE',\n",
      "'MIRROR',\n",
      "'ONE WAY CLUTCH BUSH KIT',\n",
      "'WASHING',\n",
      "'SIDE SHIELD LOCK',\n",
      "'OIL CAMP O RING',\n",
      "'Clutch CABLE',\n",
      "'TAIL LAMP COVER',\n",
      "'TANK BAG',\n",
      "'BATTERY',\n",
      "'WIND SHIELD STICKER',\n",
      "'LOCK SET BOLT',\n",
      "'SPEEDOMETER CABLE',\n",
      "'STOPPER WELDING',\n",
      "'CAM SHAFT',\n",
      "'LADIES HANDLE',\n",
      "'TAIL LAMP ASSEMBLY',\n",
      "'SPROCKET BEARING',\n",
      "'SILENCER JALI',\n",
      "'FORK',\n",
      "'SPRING',\n",
      "'HEAD O RING',\n",
      "'GEAR LEVER RUBBER',\n",
      "'STAY',\n",
      "'BRAKE LIGHT SWITCH',\n",
      "'BRAKE ROD SPRING',\n",
      "'PAD',\n",
      "'SEAT COWL',\n",
      "'FUEL GUAGE',\n",
      "'HANDLE WEIGHT',\n",
      "'NUMBER PLATE WITH STICKER',\n",
      "'CAM SHAFT SPRING',\n",
      "'PETROL TAP',\n",
      "'INDICATOR SWITCH',\n",
      "'KICKER SPRING',\n",
      "'SILENCER GASKET',\n",
      "'BODY COVER',\n",
      "'BATTERY BELT',\n",
      "'DISC PLATE',\n",
      "'BOTTLE COIL',\n",
      "'ENGINE OIL TOPUP',\n",
      "'PETROL',\n",
      "'MUDGUARD FLOP',\n",
      "'FRONT MUDGUARD',\n",
      "'BATTERY CHARGE',\n",
      "'PETROL PIPE',\n",
      "'BRAKE SWITCH',\n",
      "'TEFLON COATING',\n",
      "'SPEEDOMETER COVER',\n",
      "'STICKER',\n",
      "'ENGINE WORK',\n",
      "'PUNCHER',\n",
      "'STARTER COIL',\n",
      "'VISIOR STICKER',\n",
      "'SIDE SHELD RUBBER',\n",
      "'SELF REALY',\n",
      "'WIRING KIT',\n",
      "'SELF KIT',\n",
      "'VISIOR WITH LABOUR',\n",
      "'HANDLE BAR',\n",
      "'BULB ',\n",
      "'BULB',\n",
      "'SPEEDOMETER',\n",
      "'HEAD LIGHT HOLDER',\n",
      "'MUDGUARD BOLT',\n",
      "'SIDE STAND SPRING',\n",
      "'CHAIN ADJUSTER PLATE',\n",
      "'CDI UNIT',\n",
      "'WIRING LABOUR',\n",
      "'CHAIN LINK LOCK',\n",
      "'WIRING',\n",
      "'CLUTCH ADJUSTMENT',\n",
      "'PLUG ADAPTER',\n",
      "'SHIELD RUBBER',\n",
      "'FUSE BOX',\n",
      "'PLUG ADAPTER RUBBER',\n",
      "'HALF ACCELERATOR',\n",
      "'NUMBER PLATE',\n",
      "'COIL CHECK',\n",
      "'STAND RUBBER',\n",
      "'DISC OIL TOPUP',\n",
      "'DC KIT',\n",
      "'BRAKE LEVER',\n",
      "'BRAKE PEDAL SPRING',\n",
      "'AIR INTAKE',\n",
      "'TOP PLATE',\n",
      "'TANK CAP',\n",
      "'CLUTCH OUTLET PIPE',\n",
      "'SIDE STAND',\n",
      "'GRIP HANDLE',\n",
      "'handle weight',\n",
      "'SPEEDOMETER BULB',\n",
      "'WELDING',\n",
      "'PILOT LIGHT',\n",
      "'SILENCER JALL SCREW',\n",
      "'TUBE',\n",
      "'ENGINE SCREW KIT',\n",
      "'OIL SEAL KIT',\n",
      "'PETROL LOCK',\n",
      "'FLASHER',\n",
      "'BOLT WIELDING',\n",
      "'TYRE',\n",
      "'TYRE REPLACEMENT',\n",
      "'FUSE',\n",
      "'HEAD BORE GASKET',\n",
      "'NUMBER PLATE STICKER',\n",
      "'HEAD LIGHT SWITCH',\n",
      "'BATTERY CLIP',\n",
      "'BRAKE PEDAL RUBBER',\n",
      "'HELMET LOCK',\n",
      "'tyre',\n",
      "'HEAD CAP O RING',\n",
      "'HANDLE GRIPPER',\n",
      "'GRILL',\n",
      "'BEARING SET',\n",
      "'MASTER CYLENDER',\n",
      "'PUMP KIT',\n",
      "'LEVER BOLT',\n",
      "'TAIL LAMP GLASS',\n",
      "'COIL',\n",
      "'GB COVER SCREW',\n",
      "'SIDE LOCK',\n",
      "'CENTER STAND SPRING',\n",
      "'GEAR LEVER BOLT',\n",
      "'ENGINE OIL TANK COVER SEAT LADIES ENGINE GUARD',\n",
      "'DOOM REPLACEMENT',\n",
      "'CLUTCH CAM SPRING',\n",
      "'MAGNET COVER BOLT',\n",
      "'DISC ASSEMBLY',\n",
      "'TANK FOLP',\n",
      "'BRAKE PEDAL',\n",
      "'HANDLE HOLDER',\n",
      "'PACKING',\n",
      "'PAYMENT',\n",
      "'KICKER',\n",
      "'LEVER',\n",
      "'GASKET KIT',\n",
      "'COIL START',\n",
      "'WIND SHIELD RUBBER',\n",
      "'OIL LENSE',\n",
      "'RC CARD',\n",
      "'PLUG',\n",
      "'BALANCING GEAR',\n",
      "'INDICATOR BUZZER',\n",
      "'DRUM',\n",
      "'RIM',\n",
      "'ENGINE RUBBER',\n",
      "'PICKUP COIL',\n",
      "'HALF AXLE',\n",
      "'ENGINE CASE WELDING',\n",
      "'THREADING',\n",
      "'BODY ',\n",
      "'HOLDER STEP',\n",
      "'CARBURETOR SPRING',\n",
      "'CENTER STAND',\n",
      "'AXLE',\n",
      "'BOLT REMOVAL',\n",
      "'RELAY',\n",
      "'GEAR AND GB SHAFT OIL SEAL',\n",
      "'REAR BREAK LIGHT SWITCH',\n",
      "'DOOM CAP',\n",
      "'CRASH GUARD BOLT',\n",
      "'REBORE',\n",
      "'MAGNET COIL',\n",
      "'BRAKE LIGHT SPRING',\n",
      "'EX SHOW ROOM',\n",
      "'REGISTER FEES',\n",
      "'LIFE TIME TAX',\n",
      "'ADD ON FEES',\n",
      "'HEAD LAMP CONTROL',\n",
      "'SWING ARM BUISH KIT',\n",
      "'FLOAT',\n",
      "'ENGINE OVERHUAL',\n",
      "'BC UNIT',\n",
      "'SIDE STAND RUBBER',\n",
      "'SHIELD COVER',\n",
      "'SAREE GUARD',\n",
      "'WHEEL BEND',\n",
      "'SPEEDOMETER STAY',\n",
      "'HANDLEBAR RUBBER',\n",
      "'BRAKE ROD',\n",
      "'BORE',\n",
      "'BULB HOLDER',\n",
      "'WHEEL ALIGNMENT',\n",
      "'REAR FOOT REST',\n",
      "'HALF ENGINE AND CARBORATOR',\n",
      "'COOLANT OIL TOP UP',\n",
      "'ENGINE RE CONDITION',\n",
      "'DOOM SCREW RUBBER',\n",
      "'HEAD LIGHT GRILL',\n",
      "'CHAIN ADJUSTER',\n",
      "'SIDE BOX',\n",
      "'TANK DENT',\n",
      "'COOLANT OIL SENSOR',\n",
      "'YOKE SET',\n",
      "'BRAKE LIGHT SWITCH ',\n",
      "'SPPEDOMETER CABLE',\n",
      "'SPEEDOMETER WORM',\n",
      "'RADIATOR',\n",
      "'YOKE LEVER',\n",
      "'SERVICE AND ONE WAY CLUTCH BUSH KIT',\n",
      "'DISC HOSE PIPE',\n",
      "'SEAT COWL STICKER',\n",
      "'GRILL SET',\n",
      "'ENGINE',\n",
      "'HEAD SENSOR',\n",
      "'GB SHAFT OIL SEAL',\n",
      "'MOBILE HOLDER',\n",
      "'WHEEL ASSMEBLY',\n",
      "'WHEEL BOLT',\n",
      "'CHAIN COVER BOLT',\n",
      "'HEAD CAP LABOUR',\n",
      "'REAR SHOCK ABSORBER',\n",
      "'OIL COOLER PIPE',\n",
      "'BEDDING BOLT',\n",
      "'MAGNET ASSEMBLY',\n",
      "'BEARING',\n",
      "'ENGINE TEM SENSOR',\n",
      "'SPRING AND BREAK SHOE',\n",
      "'FRONT NO PLATE WITH STIKER-',\n",
      "'FUEL WIRING KIT',\n",
      "'BORE GASKET',\n",
      "'HEAD GASKET KIT',\n",
      "'BRAKE RUBBER',\n",
      "'MUDGAURD',\n",
      "'WHEEL AXLE',\n",
      "'MUDGAURD CLAMP',\n",
      "'REGISTER EXPENSES',\n",
      "'REAR TUBE',\n",
      "'MAGNET OVERHUAL',\n",
      "'MAGNET COVER GASKET',\n",
      "'MAGNET COVER PACKING',\n",
      "'CLUTCH YOUCK',\n",
      "'CHAIN PAD',\n",
      "'CLUTCH COVER PACKING',\n",
      "'DISK PLATE',\n",
      "'MAGWHEEL BEND',\n",
      "'TAPPED WELDING',\n",
      "'INTAKE',\n",
      "'FLOAT NEEDLE',\n",
      "'GEAR LEVER WELDING',\n",
      "'CARBURETOR ASSEMBLY',\n",
      "'LEVER RUBBER',\n",
      "'RIM TUBLESS NECK',\n",
      "'RADIATOR OVERHUAL',\n",
      "'LOCK TYPE PETROL TAP',\n",
      "'PETROL FILTER',\n",
      "'CLUTCH CAM SWITCH',\n",
      "'SPROCKET RUBBER',\n",
      "'CASE WELDING',\n",
      "'GEAR BOX OIL',\n",
      "'CLUTCH ROLLERS',\n",
      "'CLUTCH SPRING KIT',\n",
      "'CLUTCH SHOE',\n",
      "'U BUSH',\n",
      "'MAJOR KIT',\n",
      "'MAGNET COIL AND PICKUP COIL',\n",
      "'CONE SET OVERHUAL',\n",
      "'HELMET CABLE',\n",
      "'ONE WAY BODY',\n",
      "'STAND WELDING',\n",
      "'TUBELESS NECK',\n",
      "'SEAT',\n",
      "'COOLANT OIL HOSE PIPE',\n",
      "'INSURANCE',\n",
      "'PULSAR RS 200 ABS',\n",
      "'COOLANT OIL TANK',\n",
      "'FOG LAMP',\n",
      "'8 SIZE BOLT',\n",
      "'GB BOLT',\n",
      "'STOPPER HOLDER',\n",
      "'NUMBER PLATE CLAMP',\n",
      "'SPEEDOMETER CLAMP',\n",
      "'FITTING LABOUR',\n",
      "'VISIOR BOTTOM COVER',\n",
      "'MUDGUARD',\n",
      "'WASHING AND LABOUR',\n",
      "'REAR TAIL LAMP GRILL',\n",
      "'FOG LAMP FITTING',\n",
      "'CLUTCH REPALCEMENT',\n",
      "'STAND LOCK PIN ',\n",
      "'WIRING CHECK WITH LABOR',\n",
      "'OIL SEAL WATER PUMP',\n",
      "'GEAR LEVER ASSEMBLY',\n",
      "'CABLE LOCK',\n",
      "'KICKER RUBBER',\n",
      "'10 SIZE NUT',\n",
      "'MUDGUARD CLAMP',\n",
      "'6004 BEARING',\n",
      "'6303 BEARING',\n",
      "'6202 BEARING',\n",
      "'SHIELD LOCK',\n",
      "'CARBURETOR',\n",
      "'GEAR SHAFT OIL SEAL',\n",
      "'MAGNET COVER STICKER',\n",
      "'ENGINE CASE',\n",
      "'ENGINE CASE BEARING ASSEBLY',\n",
      "'GEAR BOX',\n",
      "'HEAD LIGHT WIRING',\n",
      "'LIGHTING COIL',\n",
      "'LIGHT SWITCH',\n",
      "'STOPPER',\n",
      "'LIGHT RELAY',\n",
      "'COIL LABOUR',\n",
      "'BRAKE BUSH KIT',\n",
      "'GB COVER',\n",
      "'FORK SPRING',\n",
      "'CAHIN PAD SCREW',\n",
      "'SHIELD SQUARE RUBBER',\n",
      "'SIDE STAND BRACKET',\n",
      "'CHOKE SENSOR',\n",
      "'GEAR AND WASHER',\n",
      "'CARBURETOR PLATE',\n",
      "'WIND SHIELD LOGO',\n",
      "'FOG LAMP SET',\n",
      "'ONE WAY CLUTCH BODY',\n",
      "'12 SIZE BOLT',\n",
      "'GB COVER BOLT',\n",
      "'SIDE SWITCH MAGNET',\n",
      "'WASHING AND POLISH',\n",
      "'BUSH KIT',\n",
      "'GRIP SET',\n",
      "'HANDLE WEIGHT BOLT',\n",
      "'SEAT LOCK',\n",
      "'CHAIN COVER BEADING',\n",
      "'FIBER LOCK',\n",
      "'GEAR SHAFT SPRING',\n",
      "'BATTERY TARMINAL',\n",
      "'HANDLE WEIGHT LIGHT',\n",
      "'CALIPER RUBBER KIT',\n",
      "'FUEL TAP',\n",
      "'SILENCER WELDING',\n",
      "'WHEEL NECK',\n",
      "'PILOT LIGHT BULB',\n",
      "'LIGHT FITTING CHARGE',\n",
      "'HEAD LIGHT CLIP',\n",
      "'HANDLEBAR THREADING',\n",
      "'LIGHT FITTING LABOUR',\n",
      "'HANDLE BAR LIGHT',\n",
      "'SIDE STAND MAGNET',\n",
      "'HORN CLIP',\n",
      "'POWER ADAPTER',\n",
      "'TANK LOGO',\n",
      "'MAGWHEEL',\n",
      "'RADIATOR FAN',\n",
      "'HAND GLOUSE',\n",
      "'POSITION LAMP',\n",
      "'FRONT MASK',\n",
      "'OIL PUMP',\n",
      "'HEAD LIGHT RELAY',\n",
      "'PICKUP CHARGES',\n",
      "'COIL OVERHUAL',\n",
      "'O RING KIT',\n",
      "'CASE BEARING',\n",
      "'SIDE STAND BOLT',\n",
      "'SIDE MASK',\n",
      "'FOOT REST ASSEMBLY',\n",
      "'SPEEDOMETER GLASS',\n",
      "'POWER COIL',\n",
      "'HIGH BEAM BULB',\n",
      "'WHEEL ACCELETOR CABLE',\n",
      "'BEARING WIELDING',\n",
      "'OIL COOLER CAP',\n",
      "'FUEL GUAGE OVERHUAL',\n",
      "'FUEL TANK',\n",
      "'TANK  RUBBER',\n",
      "'HEAD STAY',\n",
      "'CRASH GASKET',\n",
      "'MASK',\n",
      "'GEAR LEVER OIL SEAL',\n",
      "'GEAR LEVER BUSH',\n",
      "'WHEEL TUBE',\n",
      "'ONE WAY CLUTCH ASSEMBLY',\n",
      "'SEAT FITTING CHARGE',\n",
      "'SPEEDOMETER FLOP',\n",
      "'WIND SHIELD RUBBER KIT',\n",
      "'HORN FITTING CHARGE',\n",
      "'MAGNET OIL SEAL',\n",
      "'HELMET',\n"
     ]
    }
   ],
   "source": [
    "# printing all items from invoice_line_text\n",
    "for item in data.invoice_line_text.unique():\n",
    "    print(f\"'{item}',\")"
   ]
  },
  {
   "attachments": {},
   "cell_type": "markdown",
   "id": "68f561e7",
   "metadata": {},
   "source": [
    "## Data Preprocessing"
   ]
  },
  {
   "cell_type": "code",
   "execution_count": 22,
   "id": "b55319d3",
   "metadata": {},
   "outputs": [],
   "source": [
    "# data cleaning\n",
    "data['invoice_line_text'] = data['invoice_line_text'].str.replace('BULB ', 'BULB')\n",
    "data['invoice_line_text'] = data['invoice_line_text'].str.replace('OVERHUAL', 'OVERHAUL')\n",
    "data['invoice_line_text'] = data['invoice_line_text'].str.replace('WIELDING', 'WELDING')\n",
    "data['invoice_line_text'] = data['invoice_line_text'].str.replace('ENGINE OIL TOPUP', 'ENGINE OIL')\n",
    "data['invoice_line_text'] = data['invoice_line_text'].str.replace('ASSEBLY', 'ASSEMBLY')\n",
    "data['invoice_line_text'] = data['invoice_line_text'].str.replace('GRIP HANDLE', 'HANDLE GRIPPER')\n",
    "data['invoice_line_text'] = data['invoice_line_text'].str.replace('HANDLEBAR', 'HANDLE BAR')\n",
    "data['invoice_line_text'] = data['invoice_line_text'].str.replace('NUMBER PLATE WITH STICKERS', 'NUMBER PLATE')\n",
    "\n"
   ]
  },
  {
   "cell_type": "code",
   "execution_count": 23,
   "id": "6e2a9862",
   "metadata": {},
   "outputs": [],
   "source": [
    "service_related_tokens = [\n",
    "'OVERHAUL', \n",
    "'WELDING',\n",
    "'SERVICE', \n",
    "'WORK',\n",
    "'PUNCHER',\n",
    "'REBORE',\n",
    "'DENT',\n",
    "'RC CARD',\n",
    "'TAX',\n",
    "'ENGINE WORK',\n",
    "'CHECK',\n",
    "'LABOUR',\n",
    "'CHARGE',\n",
    "'FEES',\n",
    "'PAYMENT',\n",
    "'STICKERS'\n",
    "'ADJUSTMENT',\n",
    "'REGISTOR',\n",
    "'INSURANCE',\n",
    "'ADJUSTMENT',\n",
    "'REMOVAL', \n",
    "'THREADING', \n",
    "'CLEANING',\n",
    "]\n",
    "services = []\n",
    "for item in data.invoice_line_text.unique():\n",
    "    try:\n",
    "        if sum([item.find(token)!= -1 for token in service_related_tokens]) > 0:\n",
    "            services.append(item)\n",
    "    except:\n",
    "        print(item)\n",
    "        \n",
    "need_to_be_removed_in_services = [\n",
    "'PETROL',\n",
    "'VALVE GRAINDING',\n",
    "'CHAIN LUBRICATION',\n",
    "'ENGINE RE CONDITION',\n",
    "'HEAD LIGHT WIRING',\n",
    "'EX SHOW ROOM'\n",
    "]\n",
    "services.extend(need_to_be_removed_in_services)"
   ]
  },
  {
   "cell_type": "code",
   "execution_count": 24,
   "id": "89e34038",
   "metadata": {},
   "outputs": [
    {
     "data": {
      "text/plain": [
       "67"
      ]
     },
     "execution_count": 24,
     "metadata": {},
     "output_type": "execute_result"
    }
   ],
   "source": [
    "len(services)"
   ]
  },
  {
   "cell_type": "code",
   "execution_count": 25,
   "id": "1266d25e",
   "metadata": {},
   "outputs": [
    {
     "name": "stdout",
     "output_type": "stream",
     "text": [
      "ENGINE OIL\n",
      "POLISH\n",
      "CONSUMABLES\n",
      "COOLANT OIL\n",
      "4 WAY SWITCH\n",
      "3M OIL\n",
      "OIL FILTER\n",
      "INDICATOR\n",
      "HEAD REST\n",
      "VALVE GUIDE\n",
      "TIMMING CHAIN\n",
      "FOOT REST\n",
      "LOW BEAM BULB\n",
      "DISC PAD\n",
      "LOADING GEAR\n",
      "PACKING KIT\n",
      "TIMMING CHAIN PAD\n",
      "TENSIONER\n",
      "CLUTCH BELL REST\n",
      "CLUTCH ASSEMBLY\n",
      "VALVE KIT\n",
      "SPARK PLUG\n",
      "ONE WAY CLUTCH\n",
      "BORE KIT\n",
      "AIR FILTER\n",
      "HEAD RUBBER\n",
      "CLUTCH CABLE\n",
      "CRANK SHAFT\n",
      "BRAKE SHOE\n",
      "DRUM BOLT WASHER\n",
      "FORK BEND\n",
      "GEAR SHAFT\n",
      "CLUTCH COVER GASKET\n",
      "INDICATOR BULB\n",
      "GEAR LEVER\n",
      "HANDLE BAR\n",
      "CRASH GUARD\n",
      "FORK OIL SEAL\n",
      "FORK OIL\n",
      "SIDE SHIELD\n",
      "VISIOR\n",
      "FORK CONE SET\n",
      "HEAD LIGHT DOOM\n",
      "TANK ASSEMBLY\n",
      "Clutch cable\n",
      "DISC LEVER\n",
      "SEAT COVER\n",
      "BUZZER\n",
      "TAIL LAMP BULB\n",
      "DISC OIL\n",
      "MASTER ASSEMBLY\n",
      "CHAIN COVER RUBBER\n",
      "ENGINE GUARD\n",
      "CLUTCH CAM \n",
      "DOOM\n",
      "WHEEL RUBBER\n",
      "bore kit\n",
      "ENGINE BEARING\n",
      "CRANK RESET\n",
      "CARBURETOR DIAPHRAGM RUBBER\n",
      "CLUTCH LEVER\n",
      "DRUM BOLT\n",
      "LOCK SET\n",
      "RIGHT SHIELD CAP\n",
      "SWITCH\n",
      "SHOCK ABSORBER\n",
      "STEP HOLDER\n",
      "ACCELATOR CABLE\n",
      "JALL SCREW\n",
      "TANK COVER\n",
      "HANDLE LOCK\n",
      "GRIPPER\n",
      "PARKING BULB\n",
      "WIND SHIELD\n",
      "SPEEDOMETER CAP\n",
      "HEAD LIGHT STAY\n",
      "CONE SET\n",
      "DOOM SCREW KIT\n",
      "DISK PAD\n",
      "HEAD LIGHT BULB\n",
      "CALIPER ASSEMBLY\n",
      "LOCK ARM\n",
      "CHAIN SPROCKET\n",
      "YOKE RUBBER\n",
      "TYRE GUARD\n",
      "CHAIN SET\n",
      "PETROL TUBE\n",
      "REAR CALIPER ASSEMBLY\n",
      "clutch cable\n",
      "FORK ASSEMBLY\n",
      "HORN\n",
      "CLUTCH SWITCH\n",
      "SILENCER\n",
      "WHEEL BEARING\n",
      "SWITCH \n",
      "CHOKE CABLE\n",
      "KICKER STOPPER\n",
      "FORK OIL AND OIL SEAL\n",
      "LADIES FOOT REST\n",
      "FOOT REST RUBBER\n",
      "SILENCER JALL\n",
      "BRAKE CABLE\n",
      "DISC PUMP KIT\n",
      "RACTIFIER\n",
      "SELF MOTOR\n",
      "YOKE\n",
      "MIRROR\n",
      "ONE WAY CLUTCH BUSH KIT\n",
      "WASHING\n",
      "SIDE SHIELD LOCK\n",
      "OIL CAMP O RING\n",
      "Clutch CABLE\n",
      "TAIL LAMP COVER\n",
      "TANK BAG\n",
      "BATTERY\n",
      "WIND SHIELD STICKER\n",
      "LOCK SET BOLT\n",
      "SPEEDOMETER CABLE\n",
      "CAM SHAFT\n",
      "LADIES HANDLE\n",
      "TAIL LAMP ASSEMBLY\n",
      "SPROCKET BEARING\n",
      "SILENCER JALI\n",
      "FORK\n",
      "SPRING\n",
      "HEAD O RING\n",
      "GEAR LEVER RUBBER\n",
      "STAY\n",
      "BRAKE LIGHT SWITCH\n",
      "BRAKE ROD SPRING\n",
      "PAD\n",
      "SEAT COWL\n",
      "FUEL GUAGE\n",
      "HANDLE WEIGHT\n",
      "NUMBER PLATE WITH STICKER\n",
      "CAM SHAFT SPRING\n",
      "PETROL TAP\n",
      "INDICATOR SWITCH\n",
      "KICKER SPRING\n",
      "SILENCER GASKET\n",
      "BODY COVER\n",
      "BATTERY BELT\n",
      "DISC PLATE\n",
      "BOTTLE COIL\n",
      "MUDGUARD FLOP\n",
      "FRONT MUDGUARD\n",
      "PETROL PIPE\n",
      "BRAKE SWITCH\n",
      "TEFLON COATING\n",
      "SPEEDOMETER COVER\n",
      "STICKER\n",
      "STARTER COIL\n",
      "VISIOR STICKER\n",
      "SIDE SHELD RUBBER\n",
      "SELF REALY\n",
      "WIRING KIT\n",
      "SELF KIT\n",
      "BULB\n",
      "SPEEDOMETER\n",
      "HEAD LIGHT HOLDER\n",
      "MUDGUARD BOLT\n",
      "SIDE STAND SPRING\n",
      "CHAIN ADJUSTER PLATE\n",
      "CDI UNIT\n",
      "CHAIN LINK LOCK\n",
      "WIRING\n",
      "PLUG ADAPTER\n",
      "SHIELD RUBBER\n",
      "FUSE BOX\n",
      "PLUG ADAPTER RUBBER\n",
      "HALF ACCELERATOR\n",
      "NUMBER PLATE\n",
      "STAND RUBBER\n",
      "DISC OIL TOPUP\n",
      "DC KIT\n",
      "BRAKE LEVER\n",
      "BRAKE PEDAL SPRING\n",
      "AIR INTAKE\n",
      "TOP PLATE\n",
      "TANK CAP\n",
      "CLUTCH OUTLET PIPE\n",
      "SIDE STAND\n",
      "HANDLE GRIPPER\n",
      "handle weight\n",
      "SPEEDOMETER BULB\n",
      "PILOT LIGHT\n",
      "SILENCER JALL SCREW\n",
      "TUBE\n",
      "ENGINE SCREW KIT\n",
      "OIL SEAL KIT\n",
      "PETROL LOCK\n",
      "FLASHER\n",
      "TYRE\n",
      "TYRE REPLACEMENT\n",
      "FUSE\n",
      "HEAD BORE GASKET\n",
      "NUMBER PLATE STICKER\n",
      "HEAD LIGHT SWITCH\n",
      "BATTERY CLIP\n",
      "BRAKE PEDAL RUBBER\n",
      "HELMET LOCK\n",
      "tyre\n",
      "HEAD CAP O RING\n",
      "GRILL\n",
      "BEARING SET\n",
      "MASTER CYLENDER\n",
      "PUMP KIT\n",
      "LEVER BOLT\n",
      "TAIL LAMP GLASS\n",
      "COIL\n",
      "GB COVER SCREW\n",
      "SIDE LOCK\n",
      "CENTER STAND SPRING\n",
      "GEAR LEVER BOLT\n",
      "ENGINE OIL TANK COVER SEAT LADIES ENGINE GUARD\n",
      "DOOM REPLACEMENT\n",
      "CLUTCH CAM SPRING\n",
      "MAGNET COVER BOLT\n",
      "DISC ASSEMBLY\n",
      "TANK FOLP\n",
      "BRAKE PEDAL\n",
      "HANDLE HOLDER\n",
      "PACKING\n",
      "KICKER\n",
      "LEVER\n",
      "GASKET KIT\n",
      "COIL START\n",
      "WIND SHIELD RUBBER\n",
      "OIL LENSE\n",
      "PLUG\n",
      "BALANCING GEAR\n",
      "INDICATOR BUZZER\n",
      "DRUM\n",
      "RIM\n",
      "ENGINE RUBBER\n",
      "PICKUP COIL\n",
      "HALF AXLE\n",
      "BODY \n",
      "HOLDER STEP\n",
      "CARBURETOR SPRING\n",
      "CENTER STAND\n",
      "AXLE\n",
      "RELAY\n",
      "GEAR AND GB SHAFT OIL SEAL\n",
      "REAR BREAK LIGHT SWITCH\n",
      "DOOM CAP\n",
      "CRASH GUARD BOLT\n",
      "MAGNET COIL\n",
      "BRAKE LIGHT SPRING\n",
      "HEAD LAMP CONTROL\n",
      "SWING ARM BUISH KIT\n",
      "FLOAT\n",
      "BC UNIT\n",
      "SIDE STAND RUBBER\n",
      "SHIELD COVER\n",
      "SAREE GUARD\n",
      "WHEEL BEND\n",
      "SPEEDOMETER STAY\n",
      "HANDLE BAR RUBBER\n",
      "BRAKE ROD\n",
      "BORE\n",
      "BULBHOLDER\n",
      "WHEEL ALIGNMENT\n",
      "REAR FOOT REST\n",
      "HALF ENGINE AND CARBORATOR\n",
      "COOLANT OIL TOP UP\n",
      "DOOM SCREW RUBBER\n",
      "HEAD LIGHT GRILL\n",
      "CHAIN ADJUSTER\n",
      "SIDE BOX\n",
      "COOLANT OIL SENSOR\n",
      "YOKE SET\n",
      "BRAKE LIGHT SWITCH \n",
      "SPPEDOMETER CABLE\n",
      "SPEEDOMETER WORM\n",
      "RADIATOR\n",
      "YOKE LEVER\n",
      "DISC HOSE PIPE\n",
      "SEAT COWL STICKER\n",
      "GRILL SET\n",
      "ENGINE\n",
      "HEAD SENSOR\n",
      "GB SHAFT OIL SEAL\n",
      "MOBILE HOLDER\n",
      "WHEEL ASSMEBLY\n",
      "WHEEL BOLT\n",
      "CHAIN COVER BOLT\n",
      "REAR SHOCK ABSORBER\n",
      "OIL COOLER PIPE\n",
      "BEDDING BOLT\n",
      "MAGNET ASSEMBLY\n",
      "BEARING\n",
      "ENGINE TEM SENSOR\n",
      "SPRING AND BREAK SHOE\n",
      "FRONT NO PLATE WITH STIKER-\n",
      "FUEL WIRING KIT\n",
      "BORE GASKET\n",
      "HEAD GASKET KIT\n",
      "BRAKE RUBBER\n",
      "MUDGAURD\n",
      "WHEEL AXLE\n",
      "MUDGAURD CLAMP\n",
      "REGISTER EXPENSES\n",
      "REAR TUBE\n",
      "MAGNET COVER GASKET\n",
      "MAGNET COVER PACKING\n",
      "CLUTCH YOUCK\n",
      "CHAIN PAD\n",
      "CLUTCH COVER PACKING\n",
      "DISK PLATE\n",
      "MAGWHEEL BEND\n",
      "INTAKE\n",
      "FLOAT NEEDLE\n",
      "CARBURETOR ASSEMBLY\n",
      "LEVER RUBBER\n",
      "RIM TUBLESS NECK\n",
      "LOCK TYPE PETROL TAP\n",
      "PETROL FILTER\n",
      "CLUTCH CAM SWITCH\n",
      "SPROCKET RUBBER\n",
      "GEAR BOX OIL\n",
      "CLUTCH ROLLERS\n",
      "CLUTCH SPRING KIT\n",
      "CLUTCH SHOE\n",
      "U BUSH\n",
      "MAJOR KIT\n",
      "MAGNET COIL AND PICKUP COIL\n",
      "HELMET CABLE\n",
      "ONE WAY BODY\n",
      "TUBELESS NECK\n",
      "SEAT\n",
      "COOLANT OIL HOSE PIPE\n",
      "PULSAR RS 200 ABS\n",
      "COOLANT OIL TANK\n",
      "FOG LAMP\n",
      "8 SIZE BOLT\n",
      "GB BOLT\n",
      "STOPPER HOLDER\n",
      "NUMBER PLATE CLAMP\n",
      "SPEEDOMETER CLAMP\n",
      "VISIOR BOTTOM COVER\n",
      "MUDGUARD\n",
      "REAR TAIL LAMP GRILL\n",
      "FOG LAMP FITTING\n",
      "CLUTCH REPALCEMENT\n",
      "STAND LOCK PIN \n",
      "OIL SEAL WATER PUMP\n",
      "GEAR LEVER ASSEMBLY\n",
      "CABLE LOCK\n",
      "KICKER RUBBER\n",
      "10 SIZE NUT\n",
      "MUDGUARD CLAMP\n",
      "6004 BEARING\n",
      "6303 BEARING\n",
      "6202 BEARING\n",
      "SHIELD LOCK\n",
      "CARBURETOR\n",
      "GEAR SHAFT OIL SEAL\n",
      "MAGNET COVER STICKER\n",
      "ENGINE CASE\n",
      "ENGINE CASE BEARING ASSEMBLY\n",
      "GEAR BOX\n",
      "LIGHTING COIL\n",
      "LIGHT SWITCH\n",
      "STOPPER\n",
      "LIGHT RELAY\n",
      "BRAKE BUSH KIT\n",
      "GB COVER\n",
      "FORK SPRING\n",
      "CAHIN PAD SCREW\n",
      "SHIELD SQUARE RUBBER\n",
      "SIDE STAND BRACKET\n",
      "CHOKE SENSOR\n",
      "GEAR AND WASHER\n",
      "CARBURETOR PLATE\n",
      "WIND SHIELD LOGO\n",
      "FOG LAMP SET\n",
      "ONE WAY CLUTCH BODY\n",
      "12 SIZE BOLT\n",
      "GB COVER BOLT\n",
      "SIDE SWITCH MAGNET\n",
      "WASHING AND POLISH\n",
      "BUSH KIT\n",
      "GRIP SET\n",
      "HANDLE WEIGHT BOLT\n",
      "SEAT LOCK\n",
      "CHAIN COVER BEADING\n",
      "FIBER LOCK\n",
      "GEAR SHAFT SPRING\n",
      "BATTERY TARMINAL\n",
      "HANDLE WEIGHT LIGHT\n",
      "CALIPER RUBBER KIT\n",
      "FUEL TAP\n",
      "WHEEL NECK\n",
      "PILOT LIGHT BULB\n",
      "HEAD LIGHT CLIP\n",
      "HANDLE BAR LIGHT\n",
      "SIDE STAND MAGNET\n",
      "HORN CLIP\n",
      "POWER ADAPTER\n",
      "TANK LOGO\n",
      "MAGWHEEL\n",
      "RADIATOR FAN\n",
      "HAND GLOUSE\n",
      "POSITION LAMP\n",
      "FRONT MASK\n",
      "OIL PUMP\n",
      "HEAD LIGHT RELAY\n",
      "O RING KIT\n",
      "CASE BEARING\n",
      "SIDE STAND BOLT\n",
      "SIDE MASK\n",
      "FOOT REST ASSEMBLY\n",
      "SPEEDOMETER GLASS\n",
      "POWER COIL\n",
      "HIGH BEAM BULB\n",
      "WHEEL ACCELETOR CABLE\n",
      "OIL COOLER CAP\n",
      "FUEL TANK\n",
      "TANK  RUBBER\n",
      "HEAD STAY\n",
      "CRASH GASKET\n",
      "MASK\n",
      "GEAR LEVER OIL SEAL\n",
      "GEAR LEVER BUSH\n",
      "WHEEL TUBE\n",
      "ONE WAY CLUTCH ASSEMBLY\n",
      "SPEEDOMETER FLOP\n",
      "WIND SHIELD RUBBER KIT\n",
      "MAGNET OIL SEAL\n",
      "HELMET\n"
     ]
    }
   ],
   "source": [
    "for item in data.invoice_line_text.unique():\n",
    "#      if item not in services and item.find('EX SHOW ROOM')!=-1:\n",
    "    if item not in services:\n",
    "        print(item)\n",
    "#         print(f\"'{item}',\")"
   ]
  },
  {
   "cell_type": "code",
   "execution_count": 26,
   "id": "6106561d",
   "metadata": {},
   "outputs": [
    {
     "data": {
      "text/plain": [
       "(21298, 3)"
      ]
     },
     "execution_count": 26,
     "metadata": {},
     "output_type": "execute_result"
    }
   ],
   "source": [
    "# dropping rows related to services\n",
    "data = data[~data.invoice_line_text.isin(services)]\n",
    "data = data.reset_index(drop=True)\n",
    "data.shape"
   ]
  },
  {
   "cell_type": "code",
   "execution_count": 27,
   "id": "1e6c2de7",
   "metadata": {},
   "outputs": [
    {
     "data": {
      "text/html": [
       "<div>\n",
       "<style scoped>\n",
       "    .dataframe tbody tr th:only-of-type {\n",
       "        vertical-align: middle;\n",
       "    }\n",
       "\n",
       "    .dataframe tbody tr th {\n",
       "        vertical-align: top;\n",
       "    }\n",
       "\n",
       "    .dataframe thead th {\n",
       "        text-align: right;\n",
       "    }\n",
       "</style>\n",
       "<table border=\"1\" class=\"dataframe\">\n",
       "  <thead>\n",
       "    <tr style=\"text-align: right;\">\n",
       "      <th></th>\n",
       "      <th>job_card_date</th>\n",
       "      <th>vehicle_model</th>\n",
       "      <th>invoice_line_text</th>\n",
       "    </tr>\n",
       "  </thead>\n",
       "  <tbody>\n",
       "    <tr>\n",
       "      <th>0</th>\n",
       "      <td>30-05-17</td>\n",
       "      <td>BAJAJ AVENGER STREET 220</td>\n",
       "      <td>ENGINE OIL</td>\n",
       "    </tr>\n",
       "    <tr>\n",
       "      <th>1</th>\n",
       "      <td>31-05-17</td>\n",
       "      <td>BAJAJ PULSAR NS 200</td>\n",
       "      <td>ENGINE OIL</td>\n",
       "    </tr>\n",
       "    <tr>\n",
       "      <th>2</th>\n",
       "      <td>31-05-17</td>\n",
       "      <td>BAJAJ PULSAR NS 200</td>\n",
       "      <td>POLISH</td>\n",
       "    </tr>\n",
       "    <tr>\n",
       "      <th>3</th>\n",
       "      <td>31-05-17</td>\n",
       "      <td>BAJAJ PULSAR NS 200</td>\n",
       "      <td>CONSUMABLES</td>\n",
       "    </tr>\n",
       "    <tr>\n",
       "      <th>4</th>\n",
       "      <td>31-05-17</td>\n",
       "      <td>BAJAJ PULSAR NS 200</td>\n",
       "      <td>COOLANT OIL</td>\n",
       "    </tr>\n",
       "  </tbody>\n",
       "</table>\n",
       "</div>"
      ],
      "text/plain": [
       "  job_card_date             vehicle_model invoice_line_text\n",
       "0      30-05-17  BAJAJ AVENGER STREET 220        ENGINE OIL\n",
       "1      31-05-17       BAJAJ PULSAR NS 200        ENGINE OIL\n",
       "2      31-05-17       BAJAJ PULSAR NS 200            POLISH\n",
       "3      31-05-17       BAJAJ PULSAR NS 200       CONSUMABLES\n",
       "4      31-05-17       BAJAJ PULSAR NS 200       COOLANT OIL"
      ]
     },
     "execution_count": 27,
     "metadata": {},
     "output_type": "execute_result"
    }
   ],
   "source": [
    "data.head()"
   ]
  },
  {
   "cell_type": "code",
   "execution_count": 28,
   "id": "282e7bf8",
   "metadata": {},
   "outputs": [],
   "source": [
    "# renaming some columns\n",
    "data.rename(columns={\"job_card_date\":\"date\", \"invoice_line_text\":\"spare_part\"}, inplace=True)"
   ]
  },
  {
   "cell_type": "code",
   "execution_count": 29,
   "id": "38a4da53",
   "metadata": {},
   "outputs": [],
   "source": [
    "# changing object to datetime datatype\n",
    "data['date'] = pd.to_datetime(data['date'], format='%d-%m-%y')"
   ]
  },
  {
   "cell_type": "code",
   "execution_count": 30,
   "id": "01765e07",
   "metadata": {},
   "outputs": [
    {
     "data": {
      "text/html": [
       "<div>\n",
       "<style scoped>\n",
       "    .dataframe tbody tr th:only-of-type {\n",
       "        vertical-align: middle;\n",
       "    }\n",
       "\n",
       "    .dataframe tbody tr th {\n",
       "        vertical-align: top;\n",
       "    }\n",
       "\n",
       "    .dataframe thead th {\n",
       "        text-align: right;\n",
       "    }\n",
       "</style>\n",
       "<table border=\"1\" class=\"dataframe\">\n",
       "  <thead>\n",
       "    <tr style=\"text-align: right;\">\n",
       "      <th></th>\n",
       "      <th>date</th>\n",
       "      <th>vehicle_model</th>\n",
       "      <th>spare_part</th>\n",
       "    </tr>\n",
       "  </thead>\n",
       "  <tbody>\n",
       "    <tr>\n",
       "      <th>0</th>\n",
       "      <td>2017-05-30</td>\n",
       "      <td>BAJAJ AVENGER STREET 220</td>\n",
       "      <td>ENGINE OIL</td>\n",
       "    </tr>\n",
       "    <tr>\n",
       "      <th>1</th>\n",
       "      <td>2017-05-31</td>\n",
       "      <td>BAJAJ PULSAR NS 200</td>\n",
       "      <td>ENGINE OIL</td>\n",
       "    </tr>\n",
       "    <tr>\n",
       "      <th>2</th>\n",
       "      <td>2017-05-31</td>\n",
       "      <td>BAJAJ PULSAR NS 200</td>\n",
       "      <td>POLISH</td>\n",
       "    </tr>\n",
       "    <tr>\n",
       "      <th>3</th>\n",
       "      <td>2017-05-31</td>\n",
       "      <td>BAJAJ PULSAR NS 200</td>\n",
       "      <td>CONSUMABLES</td>\n",
       "    </tr>\n",
       "    <tr>\n",
       "      <th>4</th>\n",
       "      <td>2017-05-31</td>\n",
       "      <td>BAJAJ PULSAR NS 200</td>\n",
       "      <td>COOLANT OIL</td>\n",
       "    </tr>\n",
       "  </tbody>\n",
       "</table>\n",
       "</div>"
      ],
      "text/plain": [
       "        date             vehicle_model   spare_part\n",
       "0 2017-05-30  BAJAJ AVENGER STREET 220   ENGINE OIL\n",
       "1 2017-05-31       BAJAJ PULSAR NS 200   ENGINE OIL\n",
       "2 2017-05-31       BAJAJ PULSAR NS 200       POLISH\n",
       "3 2017-05-31       BAJAJ PULSAR NS 200  CONSUMABLES\n",
       "4 2017-05-31       BAJAJ PULSAR NS 200  COOLANT OIL"
      ]
     },
     "execution_count": 30,
     "metadata": {},
     "output_type": "execute_result"
    }
   ],
   "source": [
    "data.head()"
   ]
  },
  {
   "attachments": {},
   "cell_type": "markdown",
   "id": "edd6eb84",
   "metadata": {},
   "source": [
    "## Advanced EDA"
   ]
  },
  {
   "cell_type": "code",
   "execution_count": 31,
   "id": "5938e62d",
   "metadata": {},
   "outputs": [
    {
     "name": "stdout",
     "output_type": "stream",
     "text": [
      "ENGINE OIL              3804\n",
      "AIR FILTER              1713\n",
      "3M OIL                  1628\n",
      "CONSUMABLES             1595\n",
      "POLISH                  1245\n",
      "                        ... \n",
      "REGISTER EXPENSES          1\n",
      "SWITCH                     1\n",
      "MAGNET COVER PACKING       1\n",
      "CLUTCH OUTLET PIPE         1\n",
      "HELMET                     1\n",
      "Name: spare_part, Length: 431, dtype: int64\n"
     ]
    }
   ],
   "source": [
    "# Calculate the counts of unique elements of invoice_line_text\n",
    "value_counts = data['spare_part'].value_counts()\n",
    "\n",
    "# Display the value counts\n",
    "print(value_counts)\n"
   ]
  },
  {
   "cell_type": "code",
   "execution_count": 32,
   "id": "1239dbab",
   "metadata": {},
   "outputs": [
    {
     "data": {
      "image/png": "[encoded data removed]",
      "text/plain": [
       "<Figure size 1080x720 with 1 Axes>"
      ]
     },
     "metadata": {
      "needs_background": "light"
     },
     "output_type": "display_data"
    }
   ],
   "source": [
    "# Create a figure and axes\n",
    "fig, ax = plt.subplots(figsize=(15, 10))\n",
    "\n",
    "# Create the countplot\n",
    "sns.countplot(data=data, x='spare_part',\n",
    "              order=data['spare_part'].value_counts().index[:50],\n",
    "              ax=ax)\n",
    "\n",
    "# Set titles and labels with customized fontsizes\n",
    "ax.set_title('top 50 spare parts', fontsize=20)\n",
    "ax.set_ylabel('spare parts count', fontsize=20)\n",
    "ax.set_xlabel('spare part', fontsize=20)\n",
    "\n",
    "# Rotate x-axis labels\n",
    "ax.tick_params(axis='x', rotation=90)\n",
    "\n",
    "# Show the plot\n",
    "plt.show()\n"
   ]
  },
  {
   "cell_type": "code",
   "execution_count": 33,
   "id": "c2664c5b",
   "metadata": {},
   "outputs": [
    {
     "data": {
      "image/png": "[encoded data removed]",
      "text/plain": [
       "<Figure size 1080x720 with 1 Axes>"
      ]
     },
     "metadata": {
      "needs_background": "light"
     },
     "output_type": "display_data"
    }
   ],
   "source": [
    "# Create a figure and axes\n",
    "fig, ax = plt.subplots(figsize=(15, 10))\n",
    "\n",
    "# Create the countplot\n",
    "sns.countplot(data=data, x='spare_part',\n",
    "              order=data['spare_part'].value_counts().index[:20],\n",
    "              ax=ax)\n",
    "\n",
    "# Set titles and labels with customized fontsizes\n",
    "ax.set_title('top 20 spare parts', fontsize=20)\n",
    "ax.set_ylabel('spare parts count', fontsize=20)\n",
    "ax.set_xlabel('spare part', fontsize=20)\n",
    "\n",
    "# Rotate x-axis labels\n",
    "ax.tick_params(axis='x', rotation=90)\n",
    "\n",
    "# Show the plot\n",
    "plt.show()\n"
   ]
  },
  {
   "cell_type": "code",
   "execution_count": 34,
   "id": "3d12efab",
   "metadata": {},
   "outputs": [
    {
     "data": {
      "text/html": [
       "<div>\n",
       "<style scoped>\n",
       "    .dataframe tbody tr th:only-of-type {\n",
       "        vertical-align: middle;\n",
       "    }\n",
       "\n",
       "    .dataframe tbody tr th {\n",
       "        vertical-align: top;\n",
       "    }\n",
       "\n",
       "    .dataframe thead th {\n",
       "        text-align: right;\n",
       "    }\n",
       "</style>\n",
       "<table border=\"1\" class=\"dataframe\">\n",
       "  <thead>\n",
       "    <tr style=\"text-align: right;\">\n",
       "      <th></th>\n",
       "      <th>vehicle_model</th>\n",
       "      <th>count</th>\n",
       "    </tr>\n",
       "  </thead>\n",
       "  <tbody>\n",
       "    <tr>\n",
       "      <th>12</th>\n",
       "      <td>BAJAJ PULSAR 150</td>\n",
       "      <td>6480</td>\n",
       "    </tr>\n",
       "    <tr>\n",
       "      <th>2</th>\n",
       "      <td>BAJAJ AVENGER STREET 220</td>\n",
       "      <td>3058</td>\n",
       "    </tr>\n",
       "    <tr>\n",
       "      <th>14</th>\n",
       "      <td>BAJAJ PULSAR 220</td>\n",
       "      <td>1984</td>\n",
       "    </tr>\n",
       "    <tr>\n",
       "      <th>18</th>\n",
       "      <td>BAJAJ PULSAR NS 200</td>\n",
       "      <td>1705</td>\n",
       "    </tr>\n",
       "    <tr>\n",
       "      <th>13</th>\n",
       "      <td>BAJAJ PULSAR 180</td>\n",
       "      <td>1703</td>\n",
       "    </tr>\n",
       "    <tr>\n",
       "      <th>5</th>\n",
       "      <td>BAJAJ CT 100</td>\n",
       "      <td>1119</td>\n",
       "    </tr>\n",
       "    <tr>\n",
       "      <th>7</th>\n",
       "      <td>BAJAJ DISCOVER 125</td>\n",
       "      <td>1027</td>\n",
       "    </tr>\n",
       "    <tr>\n",
       "      <th>0</th>\n",
       "      <td>BAJAJ AVENGER STREET</td>\n",
       "      <td>767</td>\n",
       "    </tr>\n",
       "    <tr>\n",
       "      <th>11</th>\n",
       "      <td>BAJAJ PLATINA</td>\n",
       "      <td>661</td>\n",
       "    </tr>\n",
       "    <tr>\n",
       "      <th>23</th>\n",
       "      <td>BAJAJ V150</td>\n",
       "      <td>523</td>\n",
       "    </tr>\n",
       "    <tr>\n",
       "      <th>6</th>\n",
       "      <td>BAJAJ DISCOVER</td>\n",
       "      <td>485</td>\n",
       "    </tr>\n",
       "    <tr>\n",
       "      <th>16</th>\n",
       "      <td>BAJAJ PULSAR LS135</td>\n",
       "      <td>386</td>\n",
       "    </tr>\n",
       "    <tr>\n",
       "      <th>17</th>\n",
       "      <td>BAJAJ PULSAR NS 160</td>\n",
       "      <td>292</td>\n",
       "    </tr>\n",
       "    <tr>\n",
       "      <th>15</th>\n",
       "      <td>BAJAJ PULSAR AS 200</td>\n",
       "      <td>291</td>\n",
       "    </tr>\n",
       "    <tr>\n",
       "      <th>19</th>\n",
       "      <td>BAJAJ PULSAR RS 200</td>\n",
       "      <td>237</td>\n",
       "    </tr>\n",
       "    <tr>\n",
       "      <th>9</th>\n",
       "      <td>BAJAJ DISCOVER 150</td>\n",
       "      <td>202</td>\n",
       "    </tr>\n",
       "    <tr>\n",
       "      <th>1</th>\n",
       "      <td>BAJAJ AVENGER STREET 180</td>\n",
       "      <td>98</td>\n",
       "    </tr>\n",
       "    <tr>\n",
       "      <th>8</th>\n",
       "      <td>BAJAJ DISCOVER 135</td>\n",
       "      <td>80</td>\n",
       "    </tr>\n",
       "    <tr>\n",
       "      <th>21</th>\n",
       "      <td>BAJAJ V125</td>\n",
       "      <td>75</td>\n",
       "    </tr>\n",
       "    <tr>\n",
       "      <th>20</th>\n",
       "      <td>BAJAJ V</td>\n",
       "      <td>38</td>\n",
       "    </tr>\n",
       "    <tr>\n",
       "      <th>4</th>\n",
       "      <td>BAJAJ CALIBER</td>\n",
       "      <td>27</td>\n",
       "    </tr>\n",
       "    <tr>\n",
       "      <th>25</th>\n",
       "      <td>BAJAJ XCD 125</td>\n",
       "      <td>17</td>\n",
       "    </tr>\n",
       "    <tr>\n",
       "      <th>22</th>\n",
       "      <td>BAJAJ V15</td>\n",
       "      <td>17</td>\n",
       "    </tr>\n",
       "    <tr>\n",
       "      <th>26</th>\n",
       "      <td>BAJAJ XCD 135</td>\n",
       "      <td>8</td>\n",
       "    </tr>\n",
       "    <tr>\n",
       "      <th>27</th>\n",
       "      <td>WAVE</td>\n",
       "      <td>8</td>\n",
       "    </tr>\n",
       "    <tr>\n",
       "      <th>10</th>\n",
       "      <td>BAJAJ DOMINAR 400 ABS</td>\n",
       "      <td>6</td>\n",
       "    </tr>\n",
       "    <tr>\n",
       "      <th>24</th>\n",
       "      <td>BAJAJ WIND 125</td>\n",
       "      <td>3</td>\n",
       "    </tr>\n",
       "    <tr>\n",
       "      <th>3</th>\n",
       "      <td>BAJAJ BOXER CT</td>\n",
       "      <td>1</td>\n",
       "    </tr>\n",
       "  </tbody>\n",
       "</table>\n",
       "</div>"
      ],
      "text/plain": [
       "               vehicle_model  count\n",
       "12          BAJAJ PULSAR 150   6480\n",
       "2   BAJAJ AVENGER STREET 220   3058\n",
       "14          BAJAJ PULSAR 220   1984\n",
       "18       BAJAJ PULSAR NS 200   1705\n",
       "13          BAJAJ PULSAR 180   1703\n",
       "5               BAJAJ CT 100   1119\n",
       "7         BAJAJ DISCOVER 125   1027\n",
       "0       BAJAJ AVENGER STREET    767\n",
       "11             BAJAJ PLATINA    661\n",
       "23                BAJAJ V150    523\n",
       "6             BAJAJ DISCOVER    485\n",
       "16        BAJAJ PULSAR LS135    386\n",
       "17       BAJAJ PULSAR NS 160    292\n",
       "15       BAJAJ PULSAR AS 200    291\n",
       "19       BAJAJ PULSAR RS 200    237\n",
       "9         BAJAJ DISCOVER 150    202\n",
       "1   BAJAJ AVENGER STREET 180     98\n",
       "8         BAJAJ DISCOVER 135     80\n",
       "21                BAJAJ V125     75\n",
       "20                   BAJAJ V     38\n",
       "4              BAJAJ CALIBER     27\n",
       "25             BAJAJ XCD 125     17\n",
       "22                 BAJAJ V15     17\n",
       "26             BAJAJ XCD 135      8\n",
       "27                      WAVE      8\n",
       "10     BAJAJ DOMINAR 400 ABS      6\n",
       "24            BAJAJ WIND 125      3\n",
       "3             BAJAJ BOXER CT      1"
      ]
     },
     "execution_count": 34,
     "metadata": {},
     "output_type": "execute_result"
    }
   ],
   "source": [
    "# grouping by vehicle_model\n",
    "\n",
    "vm_grouped_data = data.groupby(['vehicle_model'])['spare_part'].count().reset_index()\n",
    "vm_grouped_data.rename(columns={'spare_part': 'count'}, inplace=True)\n",
    "vm_grouped_data = vm_grouped_data.sort_values(by='count', ascending=False)\n",
    "vm_grouped_data"
   ]
  },
  {
   "cell_type": "code",
   "execution_count": 35,
   "id": "f5d35400",
   "metadata": {},
   "outputs": [
    {
     "data": {
      "text/html": [
       "<div>\n",
       "<style scoped>\n",
       "    .dataframe tbody tr th:only-of-type {\n",
       "        vertical-align: middle;\n",
       "    }\n",
       "\n",
       "    .dataframe tbody tr th {\n",
       "        vertical-align: top;\n",
       "    }\n",
       "\n",
       "    .dataframe thead th {\n",
       "        text-align: right;\n",
       "    }\n",
       "</style>\n",
       "<table border=\"1\" class=\"dataframe\">\n",
       "  <thead>\n",
       "    <tr style=\"text-align: right;\">\n",
       "      <th></th>\n",
       "      <th>spare_part</th>\n",
       "      <th>count</th>\n",
       "    </tr>\n",
       "  </thead>\n",
       "  <tbody>\n",
       "    <tr>\n",
       "      <th>127</th>\n",
       "      <td>ENGINE OIL</td>\n",
       "      <td>3804</td>\n",
       "    </tr>\n",
       "    <tr>\n",
       "      <th>9</th>\n",
       "      <td>AIR FILTER</td>\n",
       "      <td>1713</td>\n",
       "    </tr>\n",
       "    <tr>\n",
       "      <th>2</th>\n",
       "      <td>3M OIL</td>\n",
       "      <td>1628</td>\n",
       "    </tr>\n",
       "    <tr>\n",
       "      <th>90</th>\n",
       "      <td>CONSUMABLES</td>\n",
       "      <td>1595</td>\n",
       "    </tr>\n",
       "    <tr>\n",
       "      <th>298</th>\n",
       "      <td>POLISH</td>\n",
       "      <td>1245</td>\n",
       "    </tr>\n",
       "    <tr>\n",
       "      <th>...</th>\n",
       "      <td>...</td>\n",
       "      <td>...</td>\n",
       "    </tr>\n",
       "    <tr>\n",
       "      <th>232</th>\n",
       "      <td>LEVER BOLT</td>\n",
       "      <td>1</td>\n",
       "    </tr>\n",
       "    <tr>\n",
       "      <th>233</th>\n",
       "      <td>LEVER RUBBER</td>\n",
       "      <td>1</td>\n",
       "    </tr>\n",
       "    <tr>\n",
       "      <th>236</th>\n",
       "      <td>LIGHTING COIL</td>\n",
       "      <td>1</td>\n",
       "    </tr>\n",
       "    <tr>\n",
       "      <th>243</th>\n",
       "      <td>MAGNET ASSEMBLY</td>\n",
       "      <td>1</td>\n",
       "    </tr>\n",
       "    <tr>\n",
       "      <th>430</th>\n",
       "      <td>tyre</td>\n",
       "      <td>1</td>\n",
       "    </tr>\n",
       "  </tbody>\n",
       "</table>\n",
       "<p>431 rows × 2 columns</p>\n",
       "</div>"
      ],
      "text/plain": [
       "          spare_part  count\n",
       "127       ENGINE OIL   3804\n",
       "9         AIR FILTER   1713\n",
       "2             3M OIL   1628\n",
       "90       CONSUMABLES   1595\n",
       "298           POLISH   1245\n",
       "..               ...    ...\n",
       "232       LEVER BOLT      1\n",
       "233     LEVER RUBBER      1\n",
       "236    LIGHTING COIL      1\n",
       "243  MAGNET ASSEMBLY      1\n",
       "430             tyre      1\n",
       "\n",
       "[431 rows x 2 columns]"
      ]
     },
     "execution_count": 35,
     "metadata": {},
     "output_type": "execute_result"
    }
   ],
   "source": [
    "# grouping by spare part\n",
    "sp_grouped_data = data.groupby(['spare_part'])['vehicle_model'].count().reset_index()\n",
    "sp_grouped_data.rename(columns={'vehicle_model': 'count'}, inplace=True)\n",
    "sp_grouped_data = sp_grouped_data.sort_values(by='count', ascending=False)\n",
    "sp_grouped_data"
   ]
  },
  {
   "cell_type": "code",
   "execution_count": 36,
   "id": "d5db30f1",
   "metadata": {},
   "outputs": [
    {
     "data": {
      "text/plain": [
       "553"
      ]
     },
     "execution_count": 36,
     "metadata": {},
     "output_type": "execute_result"
    }
   ],
   "source": [
    "data.date.nunique()"
   ]
  },
  {
   "cell_type": "code",
   "execution_count": 37,
   "id": "9883f19b",
   "metadata": {},
   "outputs": [
    {
     "name": "stdout",
     "output_type": "stream",
     "text": [
      "<class 'pandas.core.frame.DataFrame'>\n",
      "Int64Index: 431 entries, 127 to 430\n",
      "Data columns (total 2 columns):\n",
      " #   Column      Non-Null Count  Dtype \n",
      "---  ------      --------------  ----- \n",
      " 0   spare_part  431 non-null    object\n",
      " 1   count       431 non-null    int64 \n",
      "dtypes: int64(1), object(1)\n",
      "memory usage: 10.1+ KB\n"
     ]
    }
   ],
   "source": [
    "sp_grouped_data.info()"
   ]
  },
  {
   "cell_type": "code",
   "execution_count": 38,
   "id": "bd25c54b",
   "metadata": {},
   "outputs": [
    {
     "data": {
      "text/plain": [
       "431"
      ]
     },
     "execution_count": 38,
     "metadata": {},
     "output_type": "execute_result"
    }
   ],
   "source": [
    "sp_grouped_data.shape[0]"
   ]
  },
  {
   "cell_type": "code",
   "execution_count": 39,
   "id": "e3497993",
   "metadata": {},
   "outputs": [
    {
     "data": {
      "text/plain": [
       "288"
      ]
     },
     "execution_count": 39,
     "metadata": {},
     "output_type": "execute_result"
    }
   ],
   "source": [
    "sp_grouped_data[sp_grouped_data['count']>1].shape[0]"
   ]
  },
  {
   "cell_type": "code",
   "execution_count": 40,
   "id": "3ddc5042",
   "metadata": {},
   "outputs": [
    {
     "data": {
      "text/plain": [
       "128"
      ]
     },
     "execution_count": 40,
     "metadata": {},
     "output_type": "execute_result"
    }
   ],
   "source": [
    "sp_grouped_data[sp_grouped_data['count']>10].shape[0]"
   ]
  },
  {
   "cell_type": "code",
   "execution_count": 41,
   "id": "3925b2ef",
   "metadata": {},
   "outputs": [
    {
     "data": {
      "text/plain": [
       "23"
      ]
     },
     "execution_count": 41,
     "metadata": {},
     "output_type": "execute_result"
    }
   ],
   "source": [
    "sp_grouped_data[sp_grouped_data['count']>=100].shape[0]"
   ]
  },
  {
   "cell_type": "code",
   "execution_count": 42,
   "id": "6aa82acd",
   "metadata": {},
   "outputs": [
    {
     "data": {
      "text/html": [
       "<div>\n",
       "<style scoped>\n",
       "    .dataframe tbody tr th:only-of-type {\n",
       "        vertical-align: middle;\n",
       "    }\n",
       "\n",
       "    .dataframe tbody tr th {\n",
       "        vertical-align: top;\n",
       "    }\n",
       "\n",
       "    .dataframe thead th {\n",
       "        text-align: right;\n",
       "    }\n",
       "</style>\n",
       "<table border=\"1\" class=\"dataframe\">\n",
       "  <thead>\n",
       "    <tr style=\"text-align: right;\">\n",
       "      <th></th>\n",
       "      <th>vehicle_model</th>\n",
       "      <th>spare_part</th>\n",
       "    </tr>\n",
       "    <tr>\n",
       "      <th>date</th>\n",
       "      <th></th>\n",
       "      <th></th>\n",
       "    </tr>\n",
       "  </thead>\n",
       "  <tbody>\n",
       "    <tr>\n",
       "      <th>2017-05-30</th>\n",
       "      <td>BAJAJ AVENGER STREET 220</td>\n",
       "      <td>ENGINE OIL</td>\n",
       "    </tr>\n",
       "    <tr>\n",
       "      <th>2017-05-31</th>\n",
       "      <td>BAJAJ PULSAR NS 200</td>\n",
       "      <td>ENGINE OIL</td>\n",
       "    </tr>\n",
       "    <tr>\n",
       "      <th>2017-05-31</th>\n",
       "      <td>BAJAJ PULSAR NS 200</td>\n",
       "      <td>POLISH</td>\n",
       "    </tr>\n",
       "    <tr>\n",
       "      <th>2017-05-31</th>\n",
       "      <td>BAJAJ PULSAR NS 200</td>\n",
       "      <td>CONSUMABLES</td>\n",
       "    </tr>\n",
       "    <tr>\n",
       "      <th>2017-05-31</th>\n",
       "      <td>BAJAJ PULSAR NS 200</td>\n",
       "      <td>COOLANT OIL</td>\n",
       "    </tr>\n",
       "  </tbody>\n",
       "</table>\n",
       "</div>"
      ],
      "text/plain": [
       "                       vehicle_model   spare_part\n",
       "date                                             \n",
       "2017-05-30  BAJAJ AVENGER STREET 220   ENGINE OIL\n",
       "2017-05-31       BAJAJ PULSAR NS 200   ENGINE OIL\n",
       "2017-05-31       BAJAJ PULSAR NS 200       POLISH\n",
       "2017-05-31       BAJAJ PULSAR NS 200  CONSUMABLES\n",
       "2017-05-31       BAJAJ PULSAR NS 200  COOLANT OIL"
      ]
     },
     "execution_count": 42,
     "metadata": {},
     "output_type": "execute_result"
    }
   ],
   "source": [
    "# setting date as index column\n",
    "data_indexed = data.set_index('date')\n",
    "data_indexed.head()"
   ]
  },
  {
   "cell_type": "code",
   "execution_count": 43,
   "id": "a75e0fd2",
   "metadata": {},
   "outputs": [
    {
     "data": {
      "text/plain": [
       "(84, 1)"
      ]
     },
     "execution_count": 43,
     "metadata": {},
     "output_type": "execute_result"
    }
   ],
   "source": [
    "# resampling\n",
    "weekly_data_indexed = data_indexed[['spare_part']].resample('W').count()\n",
    "weekly_data_indexed.shape"
   ]
  },
  {
   "cell_type": "code",
   "execution_count": 44,
   "id": "a287ef03",
   "metadata": {},
   "outputs": [
    {
     "data": {
      "text/html": [
       "<div>\n",
       "<style scoped>\n",
       "    .dataframe tbody tr th:only-of-type {\n",
       "        vertical-align: middle;\n",
       "    }\n",
       "\n",
       "    .dataframe tbody tr th {\n",
       "        vertical-align: top;\n",
       "    }\n",
       "\n",
       "    .dataframe thead th {\n",
       "        text-align: right;\n",
       "    }\n",
       "</style>\n",
       "<table border=\"1\" class=\"dataframe\">\n",
       "  <thead>\n",
       "    <tr style=\"text-align: right;\">\n",
       "      <th></th>\n",
       "      <th>spare_part</th>\n",
       "    </tr>\n",
       "    <tr>\n",
       "      <th>date</th>\n",
       "      <th></th>\n",
       "    </tr>\n",
       "  </thead>\n",
       "  <tbody>\n",
       "    <tr>\n",
       "      <th>2017-06-04</th>\n",
       "      <td>116</td>\n",
       "    </tr>\n",
       "    <tr>\n",
       "      <th>2017-06-11</th>\n",
       "      <td>237</td>\n",
       "    </tr>\n",
       "    <tr>\n",
       "      <th>2017-06-18</th>\n",
       "      <td>252</td>\n",
       "    </tr>\n",
       "    <tr>\n",
       "      <th>2017-06-25</th>\n",
       "      <td>219</td>\n",
       "    </tr>\n",
       "    <tr>\n",
       "      <th>2017-07-02</th>\n",
       "      <td>197</td>\n",
       "    </tr>\n",
       "  </tbody>\n",
       "</table>\n",
       "</div>"
      ],
      "text/plain": [
       "            spare_part\n",
       "date                  \n",
       "2017-06-04         116\n",
       "2017-06-11         237\n",
       "2017-06-18         252\n",
       "2017-06-25         219\n",
       "2017-07-02         197"
      ]
     },
     "execution_count": 44,
     "metadata": {},
     "output_type": "execute_result"
    }
   ],
   "source": [
    "weekly_data_indexed.head()"
   ]
  },
  {
   "cell_type": "code",
   "execution_count": 45,
   "id": "7fd43009",
   "metadata": {},
   "outputs": [
    {
     "data": {
      "text/plain": [
       "<Figure size 1080x720 with 0 Axes>"
      ]
     },
     "metadata": {},
     "output_type": "display_data"
    },
    {
     "data": {
      "image/png": "[encoded data removed]",
      "text/plain": [
       "<Figure size 432x288 with 1 Axes>"
      ]
     },
     "metadata": {
      "needs_background": "light"
     },
     "output_type": "display_data"
    }
   ],
   "source": [
    "# Set the figure size\n",
    "plt.figure(figsize=(15, 10))\n",
    "\n",
    "# Plot the weekly data \n",
    "weekly_data_indexed.plot()\n",
    "\n",
    "# Set the title and labels with customized fontsizes\n",
    "plt.title('spare parts demand per week', fontsize=22)\n",
    "plt.ylabel('spare part count', fontsize=20)\n",
    "\n",
    "# Show the plot\n",
    "plt.show()\n"
   ]
  },
  {
   "attachments": {},
   "cell_type": "markdown",
   "id": "9f262d05",
   "metadata": {},
   "source": [
    "## Time Series Analysis\n",
    "\n",
    "Analyzing the spare parts demand over time. \n",
    "\n",
    "I will be exploring following statistical techniques over the above data to understand overall pattern and behaviour of the inventory data.\n",
    "\n",
    "- Time Downsampling\n",
    "- Moving Average with rolling window\n",
    "- Cummulative mean with expanding window\n",
    "- Exponential Weighted Moving Average\n",
    "- Time series stationarity"
   ]
  },
  {
   "attachments": {},
   "cell_type": "markdown",
   "id": "29a862c7",
   "metadata": {},
   "source": [
    "### Time Downsampling\n",
    "\n",
    "In above steps, I resampled the data on weekly level. Let's see the demand of spare parts on monthly level."
   ]
  },
  {
   "cell_type": "code",
   "execution_count": 46,
   "id": "82de8f58",
   "metadata": {},
   "outputs": [
    {
     "data": {
      "text/html": [
       "<div>\n",
       "<style scoped>\n",
       "    .dataframe tbody tr th:only-of-type {\n",
       "        vertical-align: middle;\n",
       "    }\n",
       "\n",
       "    .dataframe tbody tr th {\n",
       "        vertical-align: top;\n",
       "    }\n",
       "\n",
       "    .dataframe thead th {\n",
       "        text-align: right;\n",
       "    }\n",
       "</style>\n",
       "<table border=\"1\" class=\"dataframe\">\n",
       "  <thead>\n",
       "    <tr style=\"text-align: right;\">\n",
       "      <th></th>\n",
       "      <th>spare_part</th>\n",
       "    </tr>\n",
       "    <tr>\n",
       "      <th>date</th>\n",
       "      <th></th>\n",
       "    </tr>\n",
       "  </thead>\n",
       "  <tbody>\n",
       "    <tr>\n",
       "      <th>2017-06-30</th>\n",
       "      <td>824</td>\n",
       "    </tr>\n",
       "    <tr>\n",
       "      <th>2017-07-31</th>\n",
       "      <td>943</td>\n",
       "    </tr>\n",
       "    <tr>\n",
       "      <th>2017-08-31</th>\n",
       "      <td>651</td>\n",
       "    </tr>\n",
       "    <tr>\n",
       "      <th>2017-09-30</th>\n",
       "      <td>919</td>\n",
       "    </tr>\n",
       "    <tr>\n",
       "      <th>2017-10-31</th>\n",
       "      <td>836</td>\n",
       "    </tr>\n",
       "  </tbody>\n",
       "</table>\n",
       "</div>"
      ],
      "text/plain": [
       "            spare_part\n",
       "date                  \n",
       "2017-06-30         824\n",
       "2017-07-31         943\n",
       "2017-08-31         651\n",
       "2017-09-30         919\n",
       "2017-10-31         836"
      ]
     },
     "execution_count": 46,
     "metadata": {},
     "output_type": "execute_result"
    }
   ],
   "source": [
    "monthly_data_indexed = weekly_data_indexed.resample('M').sum()\n",
    "\n",
    "monthly_data_indexed.head()"
   ]
  },
  {
   "cell_type": "code",
   "execution_count": 47,
   "id": "14b221f0",
   "metadata": {},
   "outputs": [
    {
     "data": {
      "text/plain": [
       "<matplotlib.legend.Legend at 0x7fc58921c8e0>"
      ]
     },
     "execution_count": 47,
     "metadata": {},
     "output_type": "execute_result"
    },
    {
     "data": {
      "image/png": "[encoded data removed]",
      "text/plain": [
       "<Figure size 864x360 with 1 Axes>"
      ]
     },
     "metadata": {
      "needs_background": "light"
     },
     "output_type": "display_data"
    }
   ],
   "source": [
    "#plot the weekly demand and monthly demand on same view\n",
    "\n",
    "fig, ax = plt.subplots(figsize=(12, 5))\n",
    "# Plot the down sampled\n",
    "monthly_data_indexed.plot(ax=ax, label='Monthly Demand')\n",
    "\n",
    "# Plot the upsampled data \n",
    "weekly_data_indexed.plot(ax=ax, label='Weekly Demand', color='orange')\n",
    "\n",
    "# Set labels and title\n",
    "ax.set_xlabel('Date')\n",
    "ax.set_ylabel('Demands of spare parts')\n",
    "ax.set_title('Monthly vs. Weekly Spare parts demand')\n",
    "lines, labels = ax.get_legend_handles_labels()\n",
    "ax.legend(lines, labels, loc='upper left')"
   ]
  },
  {
   "attachments": {},
   "cell_type": "markdown",
   "id": "6f710ad7",
   "metadata": {},
   "source": [
    "The monthly demands seems less fluctuating."
   ]
  },
  {
   "attachments": {},
   "cell_type": "markdown",
   "id": "ef23f695",
   "metadata": {},
   "source": [
    "### Moving Average rolling window\n",
    "\n",
    "Let's apply some smoothing techniques to understand overall behaviour the data."
   ]
  },
  {
   "cell_type": "code",
   "execution_count": 48,
   "id": "f6953ffa",
   "metadata": {},
   "outputs": [
    {
     "data": {
      "text/plain": [
       "Index(['spare_part'], dtype='object')"
      ]
     },
     "execution_count": 48,
     "metadata": {},
     "output_type": "execute_result"
    }
   ],
   "source": [
    "weekly_data_indexed.columns"
   ]
  },
  {
   "cell_type": "code",
   "execution_count": 49,
   "id": "b1132db9",
   "metadata": {},
   "outputs": [],
   "source": [
    "#define window size of 4 weeks -> Monthly window\n",
    "window = 4\n",
    "weekly_data_indexed['4W_MA'] = weekly_data_indexed['spare_part'].rolling(window).mean()\n"
   ]
  },
  {
   "cell_type": "code",
   "execution_count": 50,
   "id": "bba52760",
   "metadata": {},
   "outputs": [
    {
     "data": {
      "image/png": "[encoded data removed]",
      "text/plain": [
       "<Figure size 864x360 with 1 Axes>"
      ]
     },
     "metadata": {
      "needs_background": "light"
     },
     "output_type": "display_data"
    }
   ],
   "source": [
    "fig, ax = plt.subplots(figsize=(12, 5))\n",
    "# weekly demand\n",
    "weekly_data_indexed['spare_part'].plot(ax=ax, label='Weekly Demand of Spare Parts')\n",
    "\n",
    "# MA with window size 4\n",
    "weekly_data_indexed['4W_MA'].plot(ax=ax, label='Rolling Mean with window size of 4', color='orange')\n",
    "\n",
    "# Set labels and title\n",
    "ax.set_xlabel('Date')\n",
    "ax.set_ylabel('Spare parts Demand')\n",
    "ax.set_title('Weekly demand vs. Rolling Mean')\n",
    "lines, labels = ax.get_legend_handles_labels()\n",
    "ax.legend(lines, labels, loc='upper left')\n",
    "plt.show()"
   ]
  },
  {
   "attachments": {},
   "cell_type": "markdown",
   "id": "b9e43355",
   "metadata": {},
   "source": [
    "### Cumulative mean with expanding window\n",
    "\n",
    "This can be helpful for understanding trends and pattern in the data over time."
   ]
  },
  {
   "cell_type": "code",
   "execution_count": 51,
   "id": "feaaf380",
   "metadata": {},
   "outputs": [
    {
     "data": {
      "text/html": [
       "<div>\n",
       "<style scoped>\n",
       "    .dataframe tbody tr th:only-of-type {\n",
       "        vertical-align: middle;\n",
       "    }\n",
       "\n",
       "    .dataframe tbody tr th {\n",
       "        vertical-align: top;\n",
       "    }\n",
       "\n",
       "    .dataframe thead th {\n",
       "        text-align: right;\n",
       "    }\n",
       "</style>\n",
       "<table border=\"1\" class=\"dataframe\">\n",
       "  <thead>\n",
       "    <tr style=\"text-align: right;\">\n",
       "      <th></th>\n",
       "      <th>spare_part</th>\n",
       "      <th>4W_MA</th>\n",
       "      <th>4W_CM</th>\n",
       "    </tr>\n",
       "    <tr>\n",
       "      <th>date</th>\n",
       "      <th></th>\n",
       "      <th></th>\n",
       "      <th></th>\n",
       "    </tr>\n",
       "  </thead>\n",
       "  <tbody>\n",
       "    <tr>\n",
       "      <th>2017-06-04</th>\n",
       "      <td>116</td>\n",
       "      <td>NaN</td>\n",
       "      <td>NaN</td>\n",
       "    </tr>\n",
       "    <tr>\n",
       "      <th>2017-06-11</th>\n",
       "      <td>237</td>\n",
       "      <td>NaN</td>\n",
       "      <td>NaN</td>\n",
       "    </tr>\n",
       "    <tr>\n",
       "      <th>2017-06-18</th>\n",
       "      <td>252</td>\n",
       "      <td>NaN</td>\n",
       "      <td>NaN</td>\n",
       "    </tr>\n",
       "    <tr>\n",
       "      <th>2017-06-25</th>\n",
       "      <td>219</td>\n",
       "      <td>206.00</td>\n",
       "      <td>206.000000</td>\n",
       "    </tr>\n",
       "    <tr>\n",
       "      <th>2017-07-02</th>\n",
       "      <td>197</td>\n",
       "      <td>226.25</td>\n",
       "      <td>204.200000</td>\n",
       "    </tr>\n",
       "    <tr>\n",
       "      <th>2017-07-09</th>\n",
       "      <td>188</td>\n",
       "      <td>214.00</td>\n",
       "      <td>201.500000</td>\n",
       "    </tr>\n",
       "    <tr>\n",
       "      <th>2017-07-16</th>\n",
       "      <td>192</td>\n",
       "      <td>199.00</td>\n",
       "      <td>200.142857</td>\n",
       "    </tr>\n",
       "    <tr>\n",
       "      <th>2017-07-23</th>\n",
       "      <td>179</td>\n",
       "      <td>189.00</td>\n",
       "      <td>197.500000</td>\n",
       "    </tr>\n",
       "    <tr>\n",
       "      <th>2017-07-30</th>\n",
       "      <td>187</td>\n",
       "      <td>186.50</td>\n",
       "      <td>196.333333</td>\n",
       "    </tr>\n",
       "    <tr>\n",
       "      <th>2017-08-06</th>\n",
       "      <td>161</td>\n",
       "      <td>179.75</td>\n",
       "      <td>192.800000</td>\n",
       "    </tr>\n",
       "  </tbody>\n",
       "</table>\n",
       "</div>"
      ],
      "text/plain": [
       "            spare_part   4W_MA       4W_CM\n",
       "date                                      \n",
       "2017-06-04         116     NaN         NaN\n",
       "2017-06-11         237     NaN         NaN\n",
       "2017-06-18         252     NaN         NaN\n",
       "2017-06-25         219  206.00  206.000000\n",
       "2017-07-02         197  226.25  204.200000\n",
       "2017-07-09         188  214.00  201.500000\n",
       "2017-07-16         192  199.00  200.142857\n",
       "2017-07-23         179  189.00  197.500000\n",
       "2017-07-30         187  186.50  196.333333\n",
       "2017-08-06         161  179.75  192.800000"
      ]
     },
     "execution_count": 51,
     "metadata": {},
     "output_type": "execute_result"
    }
   ],
   "source": [
    "#append cummulative mean over min period = 4 weeks\n",
    "weekly_data_indexed['4W_CM'] = weekly_data_indexed['spare_part'].expanding(min_periods=4).mean()\n",
    "weekly_data_indexed.head(10)"
   ]
  },
  {
   "cell_type": "code",
   "execution_count": 52,
   "id": "d5dde101",
   "metadata": {},
   "outputs": [
    {
     "data": {
      "image/png": "[encoded data removed]",
      "text/plain": [
       "<Figure size 864x360 with 1 Axes>"
      ]
     },
     "metadata": {
      "needs_background": "light"
     },
     "output_type": "display_data"
    }
   ],
   "source": [
    "#plot the final df\n",
    "fig, ax = plt.subplots(figsize=(12, 5))\n",
    "\n",
    "# Plot the data\n",
    "weekly_data_indexed['spare_part'].plot(ax=ax, label='Weekly Demand')\n",
    "\n",
    "# Plot the rolling mean\n",
    "weekly_data_indexed['4W_MA'].plot(ax=ax, label='Rolling Mean', color='orange')\n",
    "\n",
    "# Plot the  cumulative mean\n",
    "weekly_data_indexed['4W_CM'].plot(ax=ax, label='Cumulative Mean', color='green')\n",
    "\n",
    "# Set labels and title\n",
    "ax.set_xlabel('Date')\n",
    "ax.set_ylabel('Spare parts demand')\n",
    "ax.set_title('Original data vs. Rolling Mean vs. Cumulative Mean')\n",
    "lines, labels = ax.get_legend_handles_labels()\n",
    "ax.legend(lines, labels, loc='upper left')\n",
    "plt.show()\n"
   ]
  },
  {
   "attachments": {},
   "cell_type": "markdown",
   "id": "c3faab98",
   "metadata": {},
   "source": [
    "Cumulative means seems somewhat stationary over time. But we need to investigate more."
   ]
  },
  {
   "attachments": {},
   "cell_type": "markdown",
   "id": "a3b77cee",
   "metadata": {},
   "source": [
    "### Time Series Stationarity\n",
    "\n",
    "A time series is stationary if the mean and variance are fixed between two equidistance points.\n",
    "\n",
    "Most the models like ARIMA and it's submodels need the stationary time series data.\n",
    "\n",
    "Let's check if our data has some trend/seasonality or it is stationary. For stationarity check we can conduct augmented dickey fuller test.\n"
   ]
  },
  {
   "cell_type": "code",
   "execution_count": 53,
   "id": "6288d4e5",
   "metadata": {},
   "outputs": [],
   "source": [
    "from statsmodels.tsa.stattools import adfuller"
   ]
  },
  {
   "cell_type": "code",
   "execution_count": 54,
   "id": "2c63b75b",
   "metadata": {},
   "outputs": [
    {
     "name": "stdout",
     "output_type": "stream",
     "text": [
      "Augmented Dickey-Fuller Test on Airline Data\n",
      "ADF test statistic      -1.173080\n",
      "p-value                  0.685068\n",
      "# lags used              4.000000\n",
      "# observations          79.000000\n",
      "critical value (1%)     -3.515977\n",
      "critical value (5%)     -2.898886\n",
      "critical value (10%)    -2.586694\n",
      "dtype: float64\n"
     ]
    }
   ],
   "source": [
    "print('Augmented Dickey-Fuller Test on Airline Data')\n",
    "dftest = adfuller(weekly_data_indexed['spare_part'], autolag='AIC')\n",
    "\n",
    "#covert into dataframe\n",
    "dfout = pd.Series(dftest[0:4], index=['ADF test statistic','p-value','# lags used','# observations'])\n",
    "\n",
    "\n",
    "for key,val in dftest[4].items():\n",
    "    dfout[f'critical value ({key})']=val\n",
    "print(dfout)"
   ]
  },
  {
   "attachments": {},
   "cell_type": "markdown",
   "id": "a08bf9ef",
   "metadata": {},
   "source": [
    "Here we have a very high p-value at 0.68, which provides weak evidence against the null hypothesis, and so we <em>fail to reject</em> the null hypothesis, and decide that our dataset is not stationary."
   ]
  },
  {
   "attachments": {},
   "cell_type": "markdown",
   "id": "dde4cb29",
   "metadata": {},
   "source": [
    "#### Differencing"
   ]
  },
  {
   "attachments": {},
   "cell_type": "markdown",
   "id": "76c2931b",
   "metadata": {},
   "source": [
    "**Let's trying to make the series stationary**\n",
    "\n",
    "We can use first order of differencing to make it stationary."
   ]
  },
  {
   "cell_type": "code",
   "execution_count": 55,
   "id": "6f42865b",
   "metadata": {},
   "outputs": [
    {
     "data": {
      "text/html": [
       "<div>\n",
       "<style scoped>\n",
       "    .dataframe tbody tr th:only-of-type {\n",
       "        vertical-align: middle;\n",
       "    }\n",
       "\n",
       "    .dataframe tbody tr th {\n",
       "        vertical-align: top;\n",
       "    }\n",
       "\n",
       "    .dataframe thead th {\n",
       "        text-align: right;\n",
       "    }\n",
       "</style>\n",
       "<table border=\"1\" class=\"dataframe\">\n",
       "  <thead>\n",
       "    <tr style=\"text-align: right;\">\n",
       "      <th></th>\n",
       "      <th>spare_part</th>\n",
       "      <th>4W_MA</th>\n",
       "      <th>4W_CM</th>\n",
       "      <th>spare_part_diff</th>\n",
       "    </tr>\n",
       "    <tr>\n",
       "      <th>date</th>\n",
       "      <th></th>\n",
       "      <th></th>\n",
       "      <th></th>\n",
       "      <th></th>\n",
       "    </tr>\n",
       "  </thead>\n",
       "  <tbody>\n",
       "    <tr>\n",
       "      <th>2017-06-04</th>\n",
       "      <td>116</td>\n",
       "      <td>NaN</td>\n",
       "      <td>NaN</td>\n",
       "      <td>NaN</td>\n",
       "    </tr>\n",
       "    <tr>\n",
       "      <th>2017-06-11</th>\n",
       "      <td>237</td>\n",
       "      <td>NaN</td>\n",
       "      <td>NaN</td>\n",
       "      <td>121.0</td>\n",
       "    </tr>\n",
       "    <tr>\n",
       "      <th>2017-06-18</th>\n",
       "      <td>252</td>\n",
       "      <td>NaN</td>\n",
       "      <td>NaN</td>\n",
       "      <td>15.0</td>\n",
       "    </tr>\n",
       "    <tr>\n",
       "      <th>2017-06-25</th>\n",
       "      <td>219</td>\n",
       "      <td>206.00</td>\n",
       "      <td>206.0</td>\n",
       "      <td>-33.0</td>\n",
       "    </tr>\n",
       "    <tr>\n",
       "      <th>2017-07-02</th>\n",
       "      <td>197</td>\n",
       "      <td>226.25</td>\n",
       "      <td>204.2</td>\n",
       "      <td>-22.0</td>\n",
       "    </tr>\n",
       "  </tbody>\n",
       "</table>\n",
       "</div>"
      ],
      "text/plain": [
       "            spare_part   4W_MA  4W_CM  spare_part_diff\n",
       "date                                                  \n",
       "2017-06-04         116     NaN    NaN              NaN\n",
       "2017-06-11         237     NaN    NaN            121.0\n",
       "2017-06-18         252     NaN    NaN             15.0\n",
       "2017-06-25         219  206.00  206.0            -33.0\n",
       "2017-07-02         197  226.25  204.2            -22.0"
      ]
     },
     "execution_count": 55,
     "metadata": {},
     "output_type": "execute_result"
    }
   ],
   "source": [
    "from statsmodels.tsa.statespace.tools import diff\n",
    "\n",
    "weekly_data_indexed['spare_part_diff'] = diff(weekly_data_indexed['spare_part'], k_diff=1)\n",
    "\n",
    "weekly_data_indexed.head(5)"
   ]
  },
  {
   "cell_type": "code",
   "execution_count": 56,
   "id": "963ac921",
   "metadata": {},
   "outputs": [],
   "source": [
    "weekly_data_indexed = weekly_data_indexed[['spare_part', 'spare_part_diff']]"
   ]
  },
  {
   "cell_type": "code",
   "execution_count": 57,
   "id": "ded8ab3f",
   "metadata": {},
   "outputs": [
    {
     "data": {
      "text/html": [
       "<div>\n",
       "<style scoped>\n",
       "    .dataframe tbody tr th:only-of-type {\n",
       "        vertical-align: middle;\n",
       "    }\n",
       "\n",
       "    .dataframe tbody tr th {\n",
       "        vertical-align: top;\n",
       "    }\n",
       "\n",
       "    .dataframe thead th {\n",
       "        text-align: right;\n",
       "    }\n",
       "</style>\n",
       "<table border=\"1\" class=\"dataframe\">\n",
       "  <thead>\n",
       "    <tr style=\"text-align: right;\">\n",
       "      <th></th>\n",
       "      <th>spare_part</th>\n",
       "      <th>spare_part_diff</th>\n",
       "    </tr>\n",
       "    <tr>\n",
       "      <th>date</th>\n",
       "      <th></th>\n",
       "      <th></th>\n",
       "    </tr>\n",
       "  </thead>\n",
       "  <tbody>\n",
       "    <tr>\n",
       "      <th>2017-06-04</th>\n",
       "      <td>116</td>\n",
       "      <td>NaN</td>\n",
       "    </tr>\n",
       "    <tr>\n",
       "      <th>2017-06-11</th>\n",
       "      <td>237</td>\n",
       "      <td>121.0</td>\n",
       "    </tr>\n",
       "    <tr>\n",
       "      <th>2017-06-18</th>\n",
       "      <td>252</td>\n",
       "      <td>15.0</td>\n",
       "    </tr>\n",
       "    <tr>\n",
       "      <th>2017-06-25</th>\n",
       "      <td>219</td>\n",
       "      <td>-33.0</td>\n",
       "    </tr>\n",
       "    <tr>\n",
       "      <th>2017-07-02</th>\n",
       "      <td>197</td>\n",
       "      <td>-22.0</td>\n",
       "    </tr>\n",
       "  </tbody>\n",
       "</table>\n",
       "</div>"
      ],
      "text/plain": [
       "            spare_part  spare_part_diff\n",
       "date                                   \n",
       "2017-06-04         116              NaN\n",
       "2017-06-11         237            121.0\n",
       "2017-06-18         252             15.0\n",
       "2017-06-25         219            -33.0\n",
       "2017-07-02         197            -22.0"
      ]
     },
     "execution_count": 57,
     "metadata": {},
     "output_type": "execute_result"
    }
   ],
   "source": [
    "weekly_data_indexed.head()"
   ]
  },
  {
   "cell_type": "code",
   "execution_count": 58,
   "id": "f5c1f484",
   "metadata": {},
   "outputs": [
    {
     "data": {
      "text/plain": [
       "<Axes: title={'center': 'First order differencing'}, xlabel='date'>"
      ]
     },
     "execution_count": 58,
     "metadata": {},
     "output_type": "execute_result"
    },
    {
     "data": {
      "image/png": "[encoded data removed]",
      "text/plain": [
       "<Figure size 432x288 with 1 Axes>"
      ]
     },
     "metadata": {
      "needs_background": "light"
     },
     "output_type": "display_data"
    }
   ],
   "source": [
    "weekly_data_indexed['spare_part_diff'].plot(title=\"First order differencing\")"
   ]
  },
  {
   "attachments": {},
   "cell_type": "markdown",
   "id": "72247229",
   "metadata": {},
   "source": [
    "Now check for stationarity."
   ]
  },
  {
   "cell_type": "code",
   "execution_count": 59,
   "id": "ee6f761e",
   "metadata": {},
   "outputs": [],
   "source": [
    "#drop first NaN entry\n",
    "weekly_data_indexed = weekly_data_indexed.dropna()"
   ]
  },
  {
   "cell_type": "code",
   "execution_count": 60,
   "id": "638a4dc2",
   "metadata": {},
   "outputs": [
    {
     "name": "stdout",
     "output_type": "stream",
     "text": [
      "Augmented Dickey-Fuller Test on Airline Data\n",
      "ADF test statistic     -7.704757e+00\n",
      "p-value                 1.310568e-11\n",
      "# lags used             3.000000e+00\n",
      "# observations          7.900000e+01\n",
      "critical value (1%)    -3.515977e+00\n",
      "critical value (5%)    -2.898886e+00\n",
      "critical value (10%)   -2.586694e+00\n",
      "dtype: float64\n"
     ]
    }
   ],
   "source": [
    "print('Augmented Dickey-Fuller Test on Airline Data')\n",
    "dftest = adfuller(weekly_data_indexed['spare_part_diff'], autolag='AIC')\n",
    "\n",
    "#covert into dataframe\n",
    "dfout = pd.Series(dftest[0:4], index=['ADF test statistic','p-value','# lags used','# observations'])\n",
    "\n",
    "\n",
    "for key,val in dftest[4].items():\n",
    "    dfout[f'critical value ({key})']=val\n",
    "print(dfout)"
   ]
  },
  {
   "attachments": {},
   "cell_type": "markdown",
   "id": "deb00be2",
   "metadata": {},
   "source": [
    "After first order differencing, the series seems now stationarity. The resultant series has `p-value` less than `5%`. "
   ]
  },
  {
   "attachments": {},
   "cell_type": "markdown",
   "id": "9865f3e1",
   "metadata": {},
   "source": [
    "## Time Series Forecasting\n",
    "\n",
    "Since we are done with Analysis of our data. We also checked for stationarity and then we introduced first order differencing to make the time series stationary.\n",
    "\n",
    "We can now move ahead for modeling and forecasting for future dates.\n",
    "\n",
    "We have a lot of options while doing model selection like we can use Auto Regression(AR), Autoregressive Moving Average(ARMA) or Autoregressive Integreted Moving Average(ARIMA).\n",
    "\n",
    "For time being I am using Triple Exponential Smoothing for setting the base line and the SARIMA model to get better result.\n",
    "\n"
   ]
  },
  {
   "attachments": {},
   "cell_type": "markdown",
   "id": "e7561190",
   "metadata": {},
   "source": [
    "### Train/Test Split\n",
    "\n",
    "For evaluating the model's performance it is crucial to evaluate it on unseen data. We can divide our data into train and test part. We can use train part for model's tranining and test part for model evaluation.\n",
    "\n",
    "I am dividing the whole data into test and train such that test data has last 16 weeks points i.e last 2 months."
   ]
  },
  {
   "cell_type": "code",
   "execution_count": 162,
   "id": "0f981519",
   "metadata": {},
   "outputs": [
    {
     "name": "stdout",
     "output_type": "stream",
     "text": [
      "Train data length: 67\n",
      "Test data length: 16\n"
     ]
    }
   ],
   "source": [
    "X = weekly_data_indexed\n",
    "\n",
    "# Calculate the split point based on an 80:20 ratio\n",
    "split_point = 16\n",
    "\n",
    "# Split the data into train and test sets\n",
    "train_data = X[:-split_point]\n",
    "test_data = X[-split_point:]\n",
    "\n",
    "# print the lengths of the train and test sets\n",
    "print('Train data length:', len(train_data))\n",
    "print('Test data length:', len(test_data))\n"
   ]
  },
  {
   "attachments": {},
   "cell_type": "markdown",
   "id": "d1e939fa",
   "metadata": {},
   "source": [
    "### Forecasting with Holt's-Winter method\n",
    "\n",
    "\n",
    "This method is another name of Triple Exponential Smoothing. It takes seasonality into account. When we expect regular fluctuations in the future, this model attempts to map the seasonal behavior."
   ]
  },
  {
   "attachments": {},
   "cell_type": "markdown",
   "id": "d5ab76d1",
   "metadata": {},
   "source": [
    "#### Fitting the model"
   ]
  },
  {
   "cell_type": "code",
   "execution_count": 163,
   "id": "f7c49a26",
   "metadata": {},
   "outputs": [],
   "source": [
    "from statsmodels.tsa.holtwinters import ExponentialSmoothing\n",
    "\n",
    "fitted_model = ExponentialSmoothing(train_data['spare_part'], trend='mul', seasonal='add', seasonal_periods=26).fit()\n"
   ]
  },
  {
   "attachments": {},
   "cell_type": "markdown",
   "id": "e2b71d53",
   "metadata": {},
   "source": [
    "### Evaluating against test set\n"
   ]
  },
  {
   "cell_type": "code",
   "execution_count": 164,
   "id": "fe848790",
   "metadata": {},
   "outputs": [],
   "source": [
    "test_predictions = fitted_model.forecast(len(test_data))"
   ]
  },
  {
   "cell_type": "code",
   "execution_count": 165,
   "id": "00bcb455",
   "metadata": {},
   "outputs": [
    {
     "data": {
      "text/plain": [
       "2018-09-23    316.089155\n",
       "2018-09-30    291.367953\n",
       "2018-10-07    320.060102\n",
       "2018-10-14    357.318627\n",
       "2018-10-21    310.994135\n",
       "2018-10-28    205.905728\n",
       "2018-11-04    359.548062\n",
       "2018-11-11    347.453288\n",
       "2018-11-18    358.882501\n",
       "2018-11-25    315.911159\n",
       "2018-12-02    354.538970\n",
       "2018-12-09    364.696903\n",
       "2018-12-16    369.923447\n",
       "2018-12-23    406.061287\n",
       "2018-12-30    377.753290\n",
       "2019-01-06    369.508760\n",
       "Freq: W-SUN, dtype: float64"
      ]
     },
     "execution_count": 165,
     "metadata": {},
     "output_type": "execute_result"
    }
   ],
   "source": [
    "test_predictions"
   ]
  },
  {
   "attachments": {},
   "cell_type": "markdown",
   "id": "bcdba082",
   "metadata": {},
   "source": [
    "#### Plot test and train data"
   ]
  },
  {
   "cell_type": "code",
   "execution_count": 166,
   "id": "5a990a78",
   "metadata": {},
   "outputs": [
    {
     "data": {
      "image/png": "[encoded data removed]",
      "text/plain": [
       "<Figure size 864x432 with 1 Axes>"
      ]
     },
     "metadata": {
      "needs_background": "light"
     },
     "output_type": "display_data"
    }
   ],
   "source": [
    "train_data['spare_part'].plot(legend=True, label='TRAIN DATA')\n",
    "test_data['spare_part'].plot(legend=True, label='TEST DATA', figsize=(12, 6)).autoscale(axis='x', tight=True)"
   ]
  },
  {
   "attachments": {},
   "cell_type": "markdown",
   "id": "71fbf3c8",
   "metadata": {},
   "source": [
    "### Plot Actual vs Predicted values"
   ]
  },
  {
   "cell_type": "code",
   "execution_count": 167,
   "id": "9684ad63",
   "metadata": {},
   "outputs": [
    {
     "data": {
      "text/plain": [
       "<Axes: xlabel='date'>"
      ]
     },
     "execution_count": 167,
     "metadata": {},
     "output_type": "execute_result"
    },
    {
     "data": {
      "image/png": "[encoded data removed]",
      "text/plain": [
       "<Figure size 864x432 with 1 Axes>"
      ]
     },
     "metadata": {
      "needs_background": "light"
     },
     "output_type": "display_data"
    }
   ],
   "source": [
    "train_data['spare_part'].plot(legend=True, label='TRAIN DATA')\n",
    "test_data['spare_part'].plot(legend=True, label='TEST DATA', figsize=(12, 6)).autoscale(axis='x', tight=True)\n",
    "test_predictions.plot(legend=True, label='PREDICTION')"
   ]
  },
  {
   "attachments": {},
   "cell_type": "markdown",
   "id": "595a4d0a",
   "metadata": {},
   "source": [
    "### Evalution Metrics\n",
    "\n",
    "Since this is a type of regression problem we can use regression metrics like *Mean Squared Error(MSE)* or *Root Mean Squared Error(RMSE)* or *Mean Absolute Error(MAE)*"
   ]
  },
  {
   "cell_type": "code",
   "execution_count": 168,
   "id": "ceb3bed1",
   "metadata": {},
   "outputs": [],
   "source": [
    "from sklearn.metrics import mean_absolute_error, mean_squared_error"
   ]
  },
  {
   "cell_type": "code",
   "execution_count": 169,
   "id": "9fa27e95",
   "metadata": {},
   "outputs": [
    {
     "name": "stdout",
     "output_type": "stream",
     "text": [
      "Mean absolute error of the above model is 75.31432519175145\n"
     ]
    }
   ],
   "source": [
    "mae_error = mean_absolute_error(test_data['spare_part'], test_predictions)\n",
    "\n",
    "print(f\"Mean absolute error of the above model is {mae_error}\")"
   ]
  },
  {
   "cell_type": "code",
   "execution_count": 170,
   "id": "10b635b3",
   "metadata": {},
   "outputs": [
    {
     "name": "stdout",
     "output_type": "stream",
     "text": [
      "Mean squared error of the above model is 9189.421437540304\n"
     ]
    }
   ],
   "source": [
    "mse_error = mean_squared_error(test_data['spare_part'], test_predictions)\n",
    "\n",
    "print(f\"Mean squared error of the above model is {mse_error}\")"
   ]
  },
  {
   "cell_type": "markdown",
   "id": "02077c20",
   "metadata": {},
   "source": []
  },
  {
   "attachments": {},
   "cell_type": "markdown",
   "id": "914a36ee",
   "metadata": {},
   "source": [
    "\n",
    "### Seasonal Autoregressive Integreted Moving Average(SARIMA)\n",
    "\n",
    "\n",
    "It's an extension of the ARIMA model that includes additional components to capture seasonality in time series data. SARIMA models are particularly useful for analyzing and forecasting data with recurring patterns that repeat over fixed intervals.\n",
    "\n",
    "SARIMA models build upon the concepts of ARIMA models, with the addition of seasonal components:\n",
    "\n",
    "1. **Seasonal AutoRegressive (SAR) Component**: This component captures the relationship between the current value and past values at the same seasonal lag. It's similar to the AR component but operates over the seasonal interval.\n",
    "\n",
    "2. **Seasonal Integrated (SI) Component**: Just like the non-seasonal integrated component in ARIMA, this component accounts for differencing the series at the seasonal interval to achieve seasonal stationarity.\n",
    "\n",
    "3. **Seasonal Moving Average (SMA) Component**: This component captures the relationship between the current value and past error terms at the same seasonal lag. It's similar to the MA component but operates over the seasonal interval.\n",
    "\n",
    "A SARIMA(p, d, q) × (P, D, Q, s) model is defined by these components:\n",
    "\n",
    "- $p$ is the order of the non-seasonal AutoRegressive (AR) component.\n",
    "- $d$ is the degree of non-seasonal differencing.\n",
    "- $q$ is the order of the non-seasonal Moving Average (MA) component.\n",
    "- $P$ is the order of the seasonal AutoRegressive (SAR) component.\n",
    "- $D$ is the degree of seasonal differencing.\n",
    "- $Q$ is the order of the seasonal Moving Average (SMA) component.\n",
    "- $s$ is the number of time steps in each seasonal period."
   ]
  },
  {
   "attachments": {},
   "cell_type": "markdown",
   "id": "7f18163d",
   "metadata": {},
   "source": [
    "#### Error/Trend/Seasonality Decomposition"
   ]
  },
  {
   "cell_type": "code",
   "execution_count": 171,
   "id": "bc0b9ad5",
   "metadata": {},
   "outputs": [
    {
     "data": {
      "image/png": "[encoded data removed]",
      "text/plain": [
       "<Figure size 432x288 with 4 Axes>"
      ]
     },
     "metadata": {
      "needs_background": "light"
     },
     "output_type": "display_data"
    }
   ],
   "source": [
    "\n",
    "\n",
    "from statsmodels.tsa.seasonal import seasonal_decompose\n",
    "\n",
    "result = seasonal_decompose(weekly_data_indexed['spare_part'], model='mul', period=4)\n",
    "result.plot();"
   ]
  },
  {
   "attachments": {},
   "cell_type": "markdown",
   "id": "0e5295e2",
   "metadata": {},
   "source": [
    "**Look at the amplitude of sesonality**"
   ]
  },
  {
   "cell_type": "code",
   "execution_count": 172,
   "id": "224d387f",
   "metadata": {},
   "outputs": [
    {
     "data": {
      "text/plain": [
       "(1.0707335507260987, 0.8981517243205228)"
      ]
     },
     "execution_count": 172,
     "metadata": {},
     "output_type": "execute_result"
    }
   ],
   "source": [
    "max(result.seasonal), min(result.seasonal)"
   ]
  },
  {
   "attachments": {},
   "cell_type": "markdown",
   "id": "4e46fb82",
   "metadata": {},
   "source": [
    "The apmplitude of the sesonality curve seems too low, so we can ignore the sesonality in the time series."
   ]
  },
  {
   "attachments": {},
   "cell_type": "markdown",
   "id": "ec9acde9",
   "metadata": {},
   "source": [
    "#### Selecting SARIMA orders"
   ]
  },
  {
   "attachments": {},
   "cell_type": "markdown",
   "id": "8e1eb59b",
   "metadata": {},
   "source": [
    "For getting optimal values of SARIMA orders i.e (p, d, q)X(P, D, Q) we can use heuristic search. or we can also use some third party library for it."
   ]
  },
  {
   "cell_type": "code",
   "execution_count": 173,
   "id": "d9bb87b9",
   "metadata": {},
   "outputs": [],
   "source": [
    "import pandas as pd\n",
    "import numpy as np\n",
    "%matplotlib inline\n",
    "\n",
    "# Load specific forecasting tools\n",
    "from statsmodels.tsa.statespace.sarimax import SARIMAX\n",
    "\n",
    "from statsmodels.graphics.tsaplots import plot_acf,plot_pacf # for determining (p,q) orders\n",
    "from statsmodels.tsa.seasonal import seasonal_decompose      # for ETS Plots\n",
    "from pmdarima import auto_arima                              # for determining ARIMA orders\n"
   ]
  },
  {
   "cell_type": "code",
   "execution_count": 191,
   "id": "216e56a3",
   "metadata": {},
   "outputs": [
    {
     "data": {
      "text/html": [
       "<table class=\"simpletable\">\n",
       "<caption>SARIMAX Results</caption>\n",
       "<tr>\n",
       "  <th>Dep. Variable:</th>                  <td>y</td>                <th>  No. Observations:  </th>    <td>67</td>   \n",
       "</tr>\n",
       "<tr>\n",
       "  <th>Model:</th>           <td>SARIMAX(5, 1, 1)x(1, 0, [], 12)</td> <th>  Log Likelihood     </th> <td>-357.922</td>\n",
       "</tr>\n",
       "<tr>\n",
       "  <th>Date:</th>                   <td>Sun, 03 Sep 2023</td>         <th>  AIC                </th>  <td>733.843</td>\n",
       "</tr>\n",
       "<tr>\n",
       "  <th>Time:</th>                       <td>20:10:52</td>             <th>  BIC                </th>  <td>753.550</td>\n",
       "</tr>\n",
       "<tr>\n",
       "  <th>Sample:</th>                    <td>06-11-2017</td>            <th>  HQIC               </th>  <td>741.630</td>\n",
       "</tr>\n",
       "<tr>\n",
       "  <th></th>                          <td>- 09-16-2018</td>           <th>                     </th>     <td> </td>   \n",
       "</tr>\n",
       "<tr>\n",
       "  <th>Covariance Type:</th>               <td>opg</td>               <th>                     </th>     <td> </td>   \n",
       "</tr>\n",
       "</table>\n",
       "<table class=\"simpletable\">\n",
       "<tr>\n",
       "      <td></td>         <th>coef</th>     <th>std err</th>      <th>z</th>      <th>P>|z|</th>  <th>[0.025</th>    <th>0.975]</th>  \n",
       "</tr>\n",
       "<tr>\n",
       "  <th>intercept</th> <td>    1.3705</td> <td>    1.158</td> <td>    1.184</td> <td> 0.237</td> <td>   -0.899</td> <td>    3.640</td>\n",
       "</tr>\n",
       "<tr>\n",
       "  <th>ar.L1</th>     <td>   -0.0585</td> <td>    0.164</td> <td>   -0.356</td> <td> 0.722</td> <td>   -0.381</td> <td>    0.264</td>\n",
       "</tr>\n",
       "<tr>\n",
       "  <th>ar.L2</th>     <td>   -0.0970</td> <td>    0.173</td> <td>   -0.561</td> <td> 0.575</td> <td>   -0.436</td> <td>    0.242</td>\n",
       "</tr>\n",
       "<tr>\n",
       "  <th>ar.L3</th>     <td>    0.0502</td> <td>    0.174</td> <td>    0.289</td> <td> 0.773</td> <td>   -0.291</td> <td>    0.391</td>\n",
       "</tr>\n",
       "<tr>\n",
       "  <th>ar.L4</th>     <td>   -0.0517</td> <td>    0.178</td> <td>   -0.290</td> <td> 0.772</td> <td>   -0.401</td> <td>    0.298</td>\n",
       "</tr>\n",
       "<tr>\n",
       "  <th>ar.L5</th>     <td>    0.0539</td> <td>    0.179</td> <td>    0.301</td> <td> 0.764</td> <td>   -0.297</td> <td>    0.405</td>\n",
       "</tr>\n",
       "<tr>\n",
       "  <th>ma.L1</th>     <td>   -0.9877</td> <td>    0.302</td> <td>   -3.271</td> <td> 0.001</td> <td>   -1.580</td> <td>   -0.396</td>\n",
       "</tr>\n",
       "<tr>\n",
       "  <th>ar.S.L12</th>  <td>    0.2155</td> <td>    0.165</td> <td>    1.308</td> <td> 0.191</td> <td>   -0.107</td> <td>    0.538</td>\n",
       "</tr>\n",
       "<tr>\n",
       "  <th>sigma2</th>    <td> 2847.1395</td> <td>  729.061</td> <td>    3.905</td> <td> 0.000</td> <td> 1418.207</td> <td> 4276.072</td>\n",
       "</tr>\n",
       "</table>\n",
       "<table class=\"simpletable\">\n",
       "<tr>\n",
       "  <th>Ljung-Box (L1) (Q):</th>     <td>0.03</td> <th>  Jarque-Bera (JB):  </th> <td>3.78</td>\n",
       "</tr>\n",
       "<tr>\n",
       "  <th>Prob(Q):</th>                <td>0.87</td> <th>  Prob(JB):          </th> <td>0.15</td>\n",
       "</tr>\n",
       "<tr>\n",
       "  <th>Heteroskedasticity (H):</th> <td>1.22</td> <th>  Skew:              </th> <td>0.04</td>\n",
       "</tr>\n",
       "<tr>\n",
       "  <th>Prob(H) (two-sided):</th>    <td>0.65</td> <th>  Kurtosis:          </th> <td>4.17</td>\n",
       "</tr>\n",
       "</table><br/><br/>Warnings:<br/>[1] Covariance matrix calculated using the outer product of gradients (complex-step)."
      ],
      "text/plain": [
       "<class 'statsmodels.iolib.summary.Summary'>\n",
       "\"\"\"\n",
       "                                      SARIMAX Results                                      \n",
       "===========================================================================================\n",
       "Dep. Variable:                                   y   No. Observations:                   67\n",
       "Model:             SARIMAX(5, 1, 1)x(1, 0, [], 12)   Log Likelihood                -357.922\n",
       "Date:                             Sun, 03 Sep 2023   AIC                            733.843\n",
       "Time:                                     20:10:52   BIC                            753.550\n",
       "Sample:                                 06-11-2017   HQIC                           741.630\n",
       "                                      - 09-16-2018                                         \n",
       "Covariance Type:                               opg                                         \n",
       "==============================================================================\n",
       "                 coef    std err          z      P>|z|      [0.025      0.975]\n",
       "------------------------------------------------------------------------------\n",
       "intercept      1.3705      1.158      1.184      0.237      -0.899       3.640\n",
       "ar.L1         -0.0585      0.164     -0.356      0.722      -0.381       0.264\n",
       "ar.L2         -0.0970      0.173     -0.561      0.575      -0.436       0.242\n",
       "ar.L3          0.0502      0.174      0.289      0.773      -0.291       0.391\n",
       "ar.L4         -0.0517      0.178     -0.290      0.772      -0.401       0.298\n",
       "ar.L5          0.0539      0.179      0.301      0.764      -0.297       0.405\n",
       "ma.L1         -0.9877      0.302     -3.271      0.001      -1.580      -0.396\n",
       "ar.S.L12       0.2155      0.165      1.308      0.191      -0.107       0.538\n",
       "sigma2      2847.1395    729.061      3.905      0.000    1418.207    4276.072\n",
       "===================================================================================\n",
       "Ljung-Box (L1) (Q):                   0.03   Jarque-Bera (JB):                 3.78\n",
       "Prob(Q):                              0.87   Prob(JB):                         0.15\n",
       "Heteroskedasticity (H):               1.22   Skew:                             0.04\n",
       "Prob(H) (two-sided):                  0.65   Kurtosis:                         4.17\n",
       "===================================================================================\n",
       "\n",
       "Warnings:\n",
       "[1] Covariance matrix calculated using the outer product of gradients (complex-step).\n",
       "\"\"\""
      ]
     },
     "execution_count": 191,
     "metadata": {},
     "output_type": "execute_result"
    }
   ],
   "source": [
    "auto_arima(train_data['spare_part'], seasonal=True,m=12).summary()"
   ]
  },
  {
   "attachments": {},
   "cell_type": "markdown",
   "id": "5367c0c8",
   "metadata": {},
   "source": [
    "We need to which conbination leads to minimum AIC score. Based on this score we can decide the final order of our model."
   ]
  },
  {
   "attachments": {},
   "cell_type": "markdown",
   "id": "95ab8b15",
   "metadata": {},
   "source": [
    "#### Fitting the model"
   ]
  },
  {
   "cell_type": "code",
   "execution_count": 66,
   "id": "1b9ada81",
   "metadata": {},
   "outputs": [],
   "source": [
    "from statsmodels.tsa.arima_model import ARIMA,ARIMAResults"
   ]
  },
  {
   "cell_type": "code",
   "execution_count": 219,
   "id": "fea547d7",
   "metadata": {},
   "outputs": [
    {
     "name": "stdout",
     "output_type": "stream",
     "text": [
      "RUNNING THE L-BFGS-B CODE\n",
      "\n",
      "           * * *\n",
      "\n",
      "Machine precision = 2.220D-16\n",
      " N =            8     M =           10\n",
      "\n",
      "At X0         0 variables are exactly at the bounds\n",
      "\n",
      "At iterate    0    f=  5.41556D+00    |proj g|=  1.37358D-01\n",
      "\n",
      "At iterate    5    f=  5.37812D+00    |proj g|=  3.07764D-02\n",
      "\n",
      "At iterate   10    f=  5.37295D+00    |proj g|=  2.31229D-03\n",
      "\n",
      "At iterate   15    f=  5.37212D+00    |proj g|=  1.23594D-02\n",
      "\n",
      "At iterate   20    f=  5.36756D+00    |proj g|=  3.79029D-03\n",
      "\n",
      "At iterate   25    f=  5.36754D+00    |proj g|=  2.11644D-05\n",
      "\n",
      "           * * *\n",
      "\n",
      "Tit   = total number of iterations\n",
      "Tnf   = total number of function evaluations\n",
      "Tnint = total number of segments explored during Cauchy searches\n",
      "Skip  = number of BFGS updates skipped\n",
      "Nact  = number of active bounds at final generalized Cauchy point\n",
      "Projg = norm of the final projected gradient\n",
      "F     = final function value\n",
      "\n",
      "           * * *\n",
      "\n",
      "   N    Tit     Tnf  Tnint  Skip  Nact     Projg        F\n",
      "    8     26     31      1     0     0   7.812D-07   5.368D+00\n",
      "  F =   5.3675358167583722     \n",
      "\n",
      "CONVERGENCE: NORM_OF_PROJECTED_GRADIENT_<=_PGTOL            \n"
     ]
    },
    {
     "name": "stderr",
     "output_type": "stream",
     "text": [
      " This problem is unconstrained.\n"
     ]
    },
    {
     "data": {
      "text/html": [
       "<table class=\"simpletable\">\n",
       "<caption>SARIMAX Results</caption>\n",
       "<tr>\n",
       "  <th>Dep. Variable:</th>             <td>spare_part</td>            <th>  No. Observations:  </th>    <td>67</td>   \n",
       "</tr>\n",
       "<tr>\n",
       "  <th>Model:</th>           <td>SARIMAX(5, 1, 1)x(1, 0, [], 12)</td> <th>  Log Likelihood     </th> <td>-359.625</td>\n",
       "</tr>\n",
       "<tr>\n",
       "  <th>Date:</th>                   <td>Sun, 03 Sep 2023</td>         <th>  AIC                </th>  <td>735.250</td>\n",
       "</tr>\n",
       "<tr>\n",
       "  <th>Time:</th>                       <td>20:14:32</td>             <th>  BIC                </th>  <td>752.767</td>\n",
       "</tr>\n",
       "<tr>\n",
       "  <th>Sample:</th>                    <td>06-11-2017</td>            <th>  HQIC               </th>  <td>742.172</td>\n",
       "</tr>\n",
       "<tr>\n",
       "  <th></th>                          <td>- 09-16-2018</td>           <th>                     </th>     <td> </td>   \n",
       "</tr>\n",
       "<tr>\n",
       "  <th>Covariance Type:</th>               <td>opg</td>               <th>                     </th>     <td> </td>   \n",
       "</tr>\n",
       "</table>\n",
       "<table class=\"simpletable\">\n",
       "<tr>\n",
       "      <td></td>        <th>coef</th>     <th>std err</th>      <th>z</th>      <th>P>|z|</th>  <th>[0.025</th>    <th>0.975]</th>  \n",
       "</tr>\n",
       "<tr>\n",
       "  <th>ar.L1</th>    <td>   -0.1307</td> <td>    0.261</td> <td>   -0.502</td> <td> 0.616</td> <td>   -0.641</td> <td>    0.380</td>\n",
       "</tr>\n",
       "<tr>\n",
       "  <th>ar.L2</th>    <td>   -0.1479</td> <td>    0.241</td> <td>   -0.613</td> <td> 0.540</td> <td>   -0.621</td> <td>    0.325</td>\n",
       "</tr>\n",
       "<tr>\n",
       "  <th>ar.L3</th>    <td>    0.0067</td> <td>    0.247</td> <td>    0.027</td> <td> 0.978</td> <td>   -0.477</td> <td>    0.491</td>\n",
       "</tr>\n",
       "<tr>\n",
       "  <th>ar.L4</th>    <td>   -0.0720</td> <td>    0.212</td> <td>   -0.340</td> <td> 0.734</td> <td>   -0.487</td> <td>    0.343</td>\n",
       "</tr>\n",
       "<tr>\n",
       "  <th>ar.L5</th>    <td>    0.0415</td> <td>    0.223</td> <td>    0.186</td> <td> 0.853</td> <td>   -0.396</td> <td>    0.479</td>\n",
       "</tr>\n",
       "<tr>\n",
       "  <th>ma.L1</th>    <td>   -0.8333</td> <td>    0.214</td> <td>   -3.902</td> <td> 0.000</td> <td>   -1.252</td> <td>   -0.415</td>\n",
       "</tr>\n",
       "<tr>\n",
       "  <th>ar.S.L12</th> <td>    0.2224</td> <td>    0.179</td> <td>    1.240</td> <td> 0.215</td> <td>   -0.129</td> <td>    0.574</td>\n",
       "</tr>\n",
       "<tr>\n",
       "  <th>sigma2</th>   <td> 3060.7657</td> <td>  521.074</td> <td>    5.874</td> <td> 0.000</td> <td> 2039.480</td> <td> 4082.051</td>\n",
       "</tr>\n",
       "</table>\n",
       "<table class=\"simpletable\">\n",
       "<tr>\n",
       "  <th>Ljung-Box (L1) (Q):</th>     <td>0.03</td> <th>  Jarque-Bera (JB):  </th> <td>0.93</td> \n",
       "</tr>\n",
       "<tr>\n",
       "  <th>Prob(Q):</th>                <td>0.86</td> <th>  Prob(JB):          </th> <td>0.63</td> \n",
       "</tr>\n",
       "<tr>\n",
       "  <th>Heteroskedasticity (H):</th> <td>1.33</td> <th>  Skew:              </th> <td>-0.03</td>\n",
       "</tr>\n",
       "<tr>\n",
       "  <th>Prob(H) (two-sided):</th>    <td>0.51</td> <th>  Kurtosis:          </th> <td>3.58</td> \n",
       "</tr>\n",
       "</table><br/><br/>Warnings:<br/>[1] Covariance matrix calculated using the outer product of gradients (complex-step)."
      ],
      "text/plain": [
       "<class 'statsmodels.iolib.summary.Summary'>\n",
       "\"\"\"\n",
       "                                      SARIMAX Results                                      \n",
       "===========================================================================================\n",
       "Dep. Variable:                          spare_part   No. Observations:                   67\n",
       "Model:             SARIMAX(5, 1, 1)x(1, 0, [], 12)   Log Likelihood                -359.625\n",
       "Date:                             Sun, 03 Sep 2023   AIC                            735.250\n",
       "Time:                                     20:14:32   BIC                            752.767\n",
       "Sample:                                 06-11-2017   HQIC                           742.172\n",
       "                                      - 09-16-2018                                         \n",
       "Covariance Type:                               opg                                         \n",
       "==============================================================================\n",
       "                 coef    std err          z      P>|z|      [0.025      0.975]\n",
       "------------------------------------------------------------------------------\n",
       "ar.L1         -0.1307      0.261     -0.502      0.616      -0.641       0.380\n",
       "ar.L2         -0.1479      0.241     -0.613      0.540      -0.621       0.325\n",
       "ar.L3          0.0067      0.247      0.027      0.978      -0.477       0.491\n",
       "ar.L4         -0.0720      0.212     -0.340      0.734      -0.487       0.343\n",
       "ar.L5          0.0415      0.223      0.186      0.853      -0.396       0.479\n",
       "ma.L1         -0.8333      0.214     -3.902      0.000      -1.252      -0.415\n",
       "ar.S.L12       0.2224      0.179      1.240      0.215      -0.129       0.574\n",
       "sigma2      3060.7657    521.074      5.874      0.000    2039.480    4082.051\n",
       "===================================================================================\n",
       "Ljung-Box (L1) (Q):                   0.03   Jarque-Bera (JB):                 0.93\n",
       "Prob(Q):                              0.86   Prob(JB):                         0.63\n",
       "Heteroskedasticity (H):               1.33   Skew:                            -0.03\n",
       "Prob(H) (two-sided):                  0.51   Kurtosis:                         3.58\n",
       "===================================================================================\n",
       "\n",
       "Warnings:\n",
       "[1] Covariance matrix calculated using the outer product of gradients (complex-step).\n",
       "\"\"\""
      ]
     },
     "execution_count": 219,
     "metadata": {},
     "output_type": "execute_result"
    }
   ],
   "source": [
    "model = SARIMAX(train_data['spare_part'],order=(5,1,1), seasonal_order=(1, 0, 0, 12))\n",
    "results = model.fit()\n",
    "results.summary()"
   ]
  },
  {
   "cell_type": "code",
   "execution_count": 220,
   "id": "6d0b1869",
   "metadata": {},
   "outputs": [],
   "source": [
    "# Obtain predicted values\n",
    "start=len(train_data)\n",
    "end=len(train_data)+len(test_data)-1\n",
    "predictions = results.predict(start=start, end=end, dynamic=False, typ='levels')"
   ]
  },
  {
   "cell_type": "code",
   "execution_count": 221,
   "id": "051fce23",
   "metadata": {},
   "outputs": [
    {
     "name": "stdout",
     "output_type": "stream",
     "text": [
      "predicted=266.3884671, expected=397\n",
      "predicted=317.7097213, expected=373\n",
      "predicted=288.7464433, expected=399\n",
      "predicted=312.3835184, expected=382\n",
      "predicted=283.8946754, expected=358\n",
      "predicted=287.4628657, expected=388\n",
      "predicted=288.2153936, expected=362\n",
      "predicted=301.8649572, expected=186\n",
      "predicted=326.5662751, expected=300\n",
      "predicted=280.4248043, expected=330\n",
      "predicted=328.4191542, expected=567\n",
      "predicted=311.7755701, expected=462\n",
      "predicted=296.7515572, expected=313\n",
      "predicted=308.0652506, expected=431\n",
      "predicted=301.7201939, expected=330\n",
      "predicted=306.9318002, expected=336\n"
     ]
    }
   ],
   "source": [
    "# Compare predictions to expected values\n",
    "for i in range(len(predictions)):\n",
    "    print(f\"predicted={predictions[i]:<11.10}, expected={test_data['spare_part'][i]}\")"
   ]
  },
  {
   "attachments": {},
   "cell_type": "markdown",
   "id": "1c551c33",
   "metadata": {},
   "source": [
    "#### Plot the predictions"
   ]
  },
  {
   "cell_type": "code",
   "execution_count": 222,
   "id": "b34c6e09",
   "metadata": {},
   "outputs": [
    {
     "data": {
      "text/plain": [
       "[Text(0.5, 0, 'Date'), Text(0, 0.5, 'Weekly Demand')]"
      ]
     },
     "execution_count": 222,
     "metadata": {},
     "output_type": "execute_result"
    },
    {
     "data": {
      "image/png": "[encoded data removed]",
      "text/plain": [
       "<Figure size 864x432 with 1 Axes>"
      ]
     },
     "metadata": {
      "needs_background": "light"
     },
     "output_type": "display_data"
    }
   ],
   "source": [
    "# Plot predictions against known values\n",
    "title = 'Weekly Demand of Spare Parts'\n",
    "ylabel='Weekly Demand'\n",
    "xlabel='Date'\n",
    "\n",
    "ax = test_data['spare_part'].plot(legend=True,figsize=(12,6),title=title)\n",
    "predictions.plot(legend=True)\n",
    "ax.autoscale(axis='x',tight=True)\n",
    "ax.set(xlabel=xlabel, ylabel=ylabel)"
   ]
  },
  {
   "attachments": {},
   "cell_type": "markdown",
   "id": "2baf360f",
   "metadata": {},
   "source": [
    "### Model's Evaluation\n",
    "\n",
    "To evaluate the model's performance let's see how the model is performing on the test set that we splitted out from whole dataset.\n",
    "\n",
    "We can forcast for test points and the we can plot the actual test points and compare the model predictions visually and using some regression metrics."
   ]
  },
  {
   "cell_type": "code",
   "execution_count": 223,
   "id": "46a842d9",
   "metadata": {},
   "outputs": [
    {
     "name": "stdout",
     "output_type": "stream",
     "text": [
      "SARIMA(2,0,1,12) MSE Error: 10703.76239\n"
     ]
    }
   ],
   "source": [
    "from sklearn.metrics import mean_squared_error\n",
    "\n",
    "\n",
    "error = mean_squared_error(test_data['spare_part'], predictions)\n",
    "print(f'SARIMA(2,0,1,12) MSE Error: {error:11.10}')"
   ]
  },
  {
   "attachments": {},
   "cell_type": "markdown",
   "id": "7afe1879",
   "metadata": {},
   "source": [
    "#### Forecast for next 16 weeks\n",
    "\n",
    "So far we splitted the dataset into train and test set. We fitted our SARIMA model over train data and evaluated the performance on test data.\n",
    "\n",
    "Now we can use the same strategy to forecast for future points. We can train the model on all data and then forecast the values for future points.\n",
    "\n"
   ]
  },
  {
   "cell_type": "code",
   "execution_count": 225,
   "id": "88c31dd3",
   "metadata": {},
   "outputs": [
    {
     "name": "stderr",
     "output_type": "stream",
     "text": [
      " This problem is unconstrained.\n"
     ]
    },
    {
     "name": "stdout",
     "output_type": "stream",
     "text": [
      "RUNNING THE L-BFGS-B CODE\n",
      "\n",
      "           * * *\n",
      "\n",
      "Machine precision = 2.220D-16\n",
      " N =            8     M =           10\n",
      "\n",
      "At X0         0 variables are exactly at the bounds\n",
      "\n",
      "At iterate    0    f=  5.54522D+00    |proj g|=  9.92611D-02\n",
      "\n",
      "At iterate    5    f=  5.52413D+00    |proj g|=  2.41574D-02\n",
      "\n",
      "At iterate   10    f=  5.51746D+00    |proj g|=  3.09783D-03\n",
      "\n",
      "At iterate   15    f=  5.51726D+00    |proj g|=  8.18102D-03\n",
      "\n",
      "At iterate   20    f=  5.51297D+00    |proj g|=  1.75994D-02\n",
      "\n",
      "At iterate   25    f=  5.51238D+00    |proj g|=  7.85227D-04\n",
      "\n",
      "           * * *\n",
      "\n",
      "Tit   = total number of iterations\n",
      "Tnf   = total number of function evaluations\n",
      "Tnint = total number of segments explored during Cauchy searches\n",
      "Skip  = number of BFGS updates skipped\n",
      "Nact  = number of active bounds at final generalized Cauchy point\n",
      "Projg = norm of the final projected gradient\n",
      "F     = final function value\n",
      "\n",
      "           * * *\n",
      "\n",
      "   N    Tit     Tnf  Tnint  Skip  Nact     Projg        F\n",
      "    8     29     33      1     0     0   8.573D-06   5.512D+00\n",
      "  F =   5.5123739842204333     \n",
      "\n",
      "CONVERGENCE: NORM_OF_PROJECTED_GRADIENT_<=_PGTOL            \n"
     ]
    }
   ],
   "source": [
    "model = SARIMAX(weekly_data_indexed['spare_part'],order=(5,1,1), seasonal_order=(1, 0, 0, 12))\n",
    "\n",
    "results = model.fit()\n",
    "fcast = results.predict(len(weekly_data_indexed),len(weekly_data_indexed)+15,typ='levels').rename('SARIMA(5,1,1)(1,0,0,12) Forecast')"
   ]
  },
  {
   "cell_type": "code",
   "execution_count": 226,
   "id": "3d6de027",
   "metadata": {},
   "outputs": [
    {
     "data": {
      "text/plain": [
       "[Text(0.5, 0, 'Date'), Text(0, 0.5, 'Weekly Demand')]"
      ]
     },
     "execution_count": 226,
     "metadata": {},
     "output_type": "execute_result"
    },
    {
     "data": {
      "image/png": "[encoded data removed]",
      "text/plain": [
       "<Figure size 864x432 with 1 Axes>"
      ]
     },
     "metadata": {
      "needs_background": "light"
     },
     "output_type": "display_data"
    }
   ],
   "source": [
    "# Plot predictions against known values\n",
    "# Plot predictions against known values\n",
    "title = 'Weekly Demand of Spare Parts'\n",
    "ylabel='Weekly Demand'\n",
    "xlabel='Date'\n",
    "\n",
    "ax = weekly_data_indexed['spare_part'].plot(legend=True,figsize=(12,6),title=title)\n",
    "fcast.plot(legend=True)\n",
    "ax.autoscale(axis='x',tight=True)\n",
    "ax.set(xlabel=xlabel, ylabel=ylabel)"
   ]
  },
  {
   "attachments": {},
   "cell_type": "markdown",
   "id": "1a1d206e",
   "metadata": {},
   "source": [
    "So far we analyzed the data in univariate fashion like we aggregated the spare parts count from the inventory data irrespective of the two wheeler models.\n",
    "\n",
    "We assumed the the count of spare parts required for each model will be same and it does not depend on model of that bike.\n",
    "\n",
    "Let's explore the multivariate analysis where we also induct the two wheelers model into account.\n"
   ]
  },
  {
   "attachments": {},
   "cell_type": "markdown",
   "id": "6d017b78",
   "metadata": {},
   "source": [
    "## Induct eXogenous variable in SARIMAX model\n",
    "\n",
    "\n",
    "Transform the dataset such that for each date we have distinct number of bikes and the spare parts count. It seems like if you have more number of bikes you will need to have more spare parts count."
   ]
  },
  {
   "cell_type": "code",
   "execution_count": 238,
   "id": "10285a15",
   "metadata": {},
   "outputs": [
    {
     "data": {
      "text/html": [
       "<div>\n",
       "<style scoped>\n",
       "    .dataframe tbody tr th:only-of-type {\n",
       "        vertical-align: middle;\n",
       "    }\n",
       "\n",
       "    .dataframe tbody tr th {\n",
       "        vertical-align: top;\n",
       "    }\n",
       "\n",
       "    .dataframe thead th {\n",
       "        text-align: right;\n",
       "    }\n",
       "</style>\n",
       "<table border=\"1\" class=\"dataframe\">\n",
       "  <thead>\n",
       "    <tr style=\"text-align: right;\">\n",
       "      <th></th>\n",
       "      <th>vehicle_model</th>\n",
       "      <th>count</th>\n",
       "    </tr>\n",
       "    <tr>\n",
       "      <th>date</th>\n",
       "      <th></th>\n",
       "      <th></th>\n",
       "    </tr>\n",
       "  </thead>\n",
       "  <tbody>\n",
       "    <tr>\n",
       "      <th>2018-11-30</th>\n",
       "      <td>BAJAJ PULSAR 150</td>\n",
       "      <td>61</td>\n",
       "    </tr>\n",
       "    <tr>\n",
       "      <th>2018-09-17</th>\n",
       "      <td>BAJAJ PULSAR 150</td>\n",
       "      <td>56</td>\n",
       "    </tr>\n",
       "    <tr>\n",
       "      <th>2017-10-12</th>\n",
       "      <td>BAJAJ PULSAR 150</td>\n",
       "      <td>49</td>\n",
       "    </tr>\n",
       "    <tr>\n",
       "      <th>2018-10-27</th>\n",
       "      <td>BAJAJ PULSAR 150</td>\n",
       "      <td>48</td>\n",
       "    </tr>\n",
       "    <tr>\n",
       "      <th>2017-07-08</th>\n",
       "      <td>BAJAJ PULSAR 150</td>\n",
       "      <td>48</td>\n",
       "    </tr>\n",
       "    <tr>\n",
       "      <th>...</th>\n",
       "      <td>...</td>\n",
       "      <td>...</td>\n",
       "    </tr>\n",
       "    <tr>\n",
       "      <th>2018-08-01</th>\n",
       "      <td>BAJAJ AVENGER STREET 220</td>\n",
       "      <td>1</td>\n",
       "    </tr>\n",
       "    <tr>\n",
       "      <th>2018-02-09</th>\n",
       "      <td>BAJAJ V150</td>\n",
       "      <td>1</td>\n",
       "    </tr>\n",
       "    <tr>\n",
       "      <th>2018-08-04</th>\n",
       "      <td>BAJAJ PULSAR AS 200</td>\n",
       "      <td>1</td>\n",
       "    </tr>\n",
       "    <tr>\n",
       "      <th>2017-07-04</th>\n",
       "      <td>BAJAJ PULSAR LS135</td>\n",
       "      <td>1</td>\n",
       "    </tr>\n",
       "    <tr>\n",
       "      <th>2017-05-30</th>\n",
       "      <td>BAJAJ AVENGER STREET 220</td>\n",
       "      <td>1</td>\n",
       "    </tr>\n",
       "  </tbody>\n",
       "</table>\n",
       "<p>2716 rows × 2 columns</p>\n",
       "</div>"
      ],
      "text/plain": [
       "                       vehicle_model  count\n",
       "date                                       \n",
       "2018-11-30          BAJAJ PULSAR 150     61\n",
       "2018-09-17          BAJAJ PULSAR 150     56\n",
       "2017-10-12          BAJAJ PULSAR 150     49\n",
       "2018-10-27          BAJAJ PULSAR 150     48\n",
       "2017-07-08          BAJAJ PULSAR 150     48\n",
       "...                              ...    ...\n",
       "2018-08-01  BAJAJ AVENGER STREET 220      1\n",
       "2018-02-09                BAJAJ V150      1\n",
       "2018-08-04       BAJAJ PULSAR AS 200      1\n",
       "2017-07-04        BAJAJ PULSAR LS135      1\n",
       "2017-05-30  BAJAJ AVENGER STREET 220      1\n",
       "\n",
       "[2716 rows x 2 columns]"
      ]
     },
     "execution_count": 238,
     "metadata": {},
     "output_type": "execute_result"
    }
   ],
   "source": [
    "# grouping by vehicle_model\n",
    "\n",
    "vm_grouped_data = data.groupby(['date','vehicle_model'])['spare_part'].count().reset_index()\n",
    "vm_grouped_data.rename(columns={'spare_part': 'count'}, inplace=True)\n",
    "vm_grouped_data = vm_grouped_data.sort_values(by='count', ascending=False).set_index('date')\n",
    "vm_grouped_data"
   ]
  },
  {
   "cell_type": "code",
   "execution_count": 242,
   "id": "1620affc",
   "metadata": {},
   "outputs": [],
   "source": [
    "vm_grouped_data = vm_grouped_data['count'].resample('W').sum()\n"
   ]
  },
  {
   "cell_type": "code",
   "execution_count": 243,
   "id": "58672a0f",
   "metadata": {},
   "outputs": [
    {
     "data": {
      "text/plain": [
       "date\n",
       "2017-06-04    116\n",
       "2017-06-11    237\n",
       "2017-06-18    252\n",
       "2017-06-25    219\n",
       "2017-07-02    197\n",
       "Freq: W-SUN, Name: count, dtype: int64"
      ]
     },
     "execution_count": 243,
     "metadata": {},
     "output_type": "execute_result"
    }
   ],
   "source": [
    "vm_grouped_data.head()"
   ]
  },
  {
   "cell_type": "code",
   "execution_count": 241,
   "id": "2c7d14c5",
   "metadata": {},
   "outputs": [
    {
     "ename": "KeyError",
     "evalue": "'Quantity'",
     "output_type": "error",
     "traceback": [
      "\u001b[0;31m---------------------------------------------------------------------------\u001b[0m",
      "\u001b[0;31mKeyError\u001b[0m                                  Traceback (most recent call last)",
      "File \u001b[0;32m~/opt/anaconda3/lib/python3.9/site-packages/pandas/core/indexes/base.py:3361\u001b[0m, in \u001b[0;36mIndex.get_loc\u001b[0;34m(self, key, method, tolerance)\u001b[0m\n\u001b[1;32m   3360\u001b[0m \u001b[39mtry\u001b[39;00m:\n\u001b[0;32m-> 3361\u001b[0m     \u001b[39mreturn\u001b[39;00m \u001b[39mself\u001b[39;49m\u001b[39m.\u001b[39;49m_engine\u001b[39m.\u001b[39;49mget_loc(casted_key)\n\u001b[1;32m   3362\u001b[0m \u001b[39mexcept\u001b[39;00m \u001b[39mKeyError\u001b[39;00m \u001b[39mas\u001b[39;00m err:\n",
      "File \u001b[0;32m~/opt/anaconda3/lib/python3.9/site-packages/pandas/_libs/index.pyx:76\u001b[0m, in \u001b[0;36mpandas._libs.index.IndexEngine.get_loc\u001b[0;34m()\u001b[0m\n",
      "File \u001b[0;32m~/opt/anaconda3/lib/python3.9/site-packages/pandas/_libs/index.pyx:108\u001b[0m, in \u001b[0;36mpandas._libs.index.IndexEngine.get_loc\u001b[0;34m()\u001b[0m\n",
      "File \u001b[0;32mpandas/_libs/hashtable_class_helper.pxi:5198\u001b[0m, in \u001b[0;36mpandas._libs.hashtable.PyObjectHashTable.get_item\u001b[0;34m()\u001b[0m\n",
      "File \u001b[0;32mpandas/_libs/hashtable_class_helper.pxi:5206\u001b[0m, in \u001b[0;36mpandas._libs.hashtable.PyObjectHashTable.get_item\u001b[0;34m()\u001b[0m\n",
      "\u001b[0;31mKeyError\u001b[0m: 'Quantity'",
      "\nThe above exception was the direct cause of the following exception:\n",
      "\u001b[0;31mKeyError\u001b[0m                                  Traceback (most recent call last)",
      "\u001b[1;32m/Users/ajitkumarsingh/Desktop/Kenvue.ipynb Cell 129\u001b[0m in \u001b[0;36m<cell line: 1>\u001b[0;34m()\u001b[0m\n\u001b[0;32m----> <a href='vscode-notebook-cell:/Users/ajitkumarsingh/Desktop/Kenvue.ipynb#Y334sZmlsZQ%3D%3D?line=0'>1</a>\u001b[0m model \u001b[39m=\u001b[39m SARIMAX(train_data[\u001b[39m'\u001b[39m\u001b[39mspare_part\u001b[39m\u001b[39m'\u001b[39m],exog\u001b[39m=\u001b[39mtrain_data[\u001b[39m'\u001b[39;49m\u001b[39mQuantity\u001b[39;49m\u001b[39m'\u001b[39;49m],order\u001b[39m=\u001b[39m(\u001b[39m1\u001b[39m,\u001b[39m2\u001b[39m,\u001b[39m1\u001b[39m),seasonal_order\u001b[39m=\u001b[39m(\u001b[39m1\u001b[39m,\u001b[39m2\u001b[39m,\u001b[39m2\u001b[39m,\u001b[39m7\u001b[39m),enforce_invertibility\u001b[39m=\u001b[39m\u001b[39mFalse\u001b[39;00m)\n\u001b[1;32m      <a href='vscode-notebook-cell:/Users/ajitkumarsingh/Desktop/Kenvue.ipynb#Y334sZmlsZQ%3D%3D?line=1'>2</a>\u001b[0m results \u001b[39m=\u001b[39m model\u001b[39m.\u001b[39mfit()\n\u001b[1;32m      <a href='vscode-notebook-cell:/Users/ajitkumarsingh/Desktop/Kenvue.ipynb#Y334sZmlsZQ%3D%3D?line=2'>3</a>\u001b[0m exog_forecast \u001b[39m=\u001b[39m df[\u001b[39m169\u001b[39m:][[\u001b[39m'\u001b[39m\u001b[39mQuantity\u001b[39m\u001b[39m'\u001b[39m]]\n",
      "File \u001b[0;32m~/opt/anaconda3/lib/python3.9/site-packages/pandas/core/frame.py:3458\u001b[0m, in \u001b[0;36mDataFrame.__getitem__\u001b[0;34m(self, key)\u001b[0m\n\u001b[1;32m   3456\u001b[0m \u001b[39mif\u001b[39;00m \u001b[39mself\u001b[39m\u001b[39m.\u001b[39mcolumns\u001b[39m.\u001b[39mnlevels \u001b[39m>\u001b[39m \u001b[39m1\u001b[39m:\n\u001b[1;32m   3457\u001b[0m     \u001b[39mreturn\u001b[39;00m \u001b[39mself\u001b[39m\u001b[39m.\u001b[39m_getitem_multilevel(key)\n\u001b[0;32m-> 3458\u001b[0m indexer \u001b[39m=\u001b[39m \u001b[39mself\u001b[39;49m\u001b[39m.\u001b[39;49mcolumns\u001b[39m.\u001b[39;49mget_loc(key)\n\u001b[1;32m   3459\u001b[0m \u001b[39mif\u001b[39;00m is_integer(indexer):\n\u001b[1;32m   3460\u001b[0m     indexer \u001b[39m=\u001b[39m [indexer]\n",
      "File \u001b[0;32m~/opt/anaconda3/lib/python3.9/site-packages/pandas/core/indexes/base.py:3363\u001b[0m, in \u001b[0;36mIndex.get_loc\u001b[0;34m(self, key, method, tolerance)\u001b[0m\n\u001b[1;32m   3361\u001b[0m         \u001b[39mreturn\u001b[39;00m \u001b[39mself\u001b[39m\u001b[39m.\u001b[39m_engine\u001b[39m.\u001b[39mget_loc(casted_key)\n\u001b[1;32m   3362\u001b[0m     \u001b[39mexcept\u001b[39;00m \u001b[39mKeyError\u001b[39;00m \u001b[39mas\u001b[39;00m err:\n\u001b[0;32m-> 3363\u001b[0m         \u001b[39mraise\u001b[39;00m \u001b[39mKeyError\u001b[39;00m(key) \u001b[39mfrom\u001b[39;00m \u001b[39merr\u001b[39;00m\n\u001b[1;32m   3365\u001b[0m \u001b[39mif\u001b[39;00m is_scalar(key) \u001b[39mand\u001b[39;00m isna(key) \u001b[39mand\u001b[39;00m \u001b[39mnot\u001b[39;00m \u001b[39mself\u001b[39m\u001b[39m.\u001b[39mhasnans:\n\u001b[1;32m   3366\u001b[0m     \u001b[39mraise\u001b[39;00m \u001b[39mKeyError\u001b[39;00m(key)\n",
      "\u001b[0;31mKeyError\u001b[0m: 'Quantity'"
     ]
    }
   ],
   "source": [
    "model = SARIMAX(train_data['spare_part'],exog=train_data['Quantity'],order=(1,2,1),seasonal_order=(1,2,2,7),enforce_invertibility=False)\n",
    "results = model.fit()\n",
    "exog_forecast = df[169:][['Quantity']]\n",
    "fcast = results.predict(len(df),len(df)+38,exog=exog_forecast).rename('SARIMAX(1,0,0)(2,0,0,7) Forecast')"
   ]
  },
  {
   "cell_type": "markdown",
   "id": "8db23523",
   "metadata": {},
   "source": []
  }
 ],
 "metadata": {
  "kernelspec": {
   "display_name": "Python 3 (ipykernel)",
   "language": "python",
   "name": "python3"
  },
  "language_info": {
   "codemirror_mode": {
    "name": "ipython",
    "version": 3
   },
   "file_extension": ".py",
   "mimetype": "text/x-python",
   "name": "python",
   "nbconvert_exporter": "python",
   "pygments_lexer": "ipython3",
   "version": "3.9.12"
  }
 },
 "nbformat": 4,
 "nbformat_minor": 5
}
